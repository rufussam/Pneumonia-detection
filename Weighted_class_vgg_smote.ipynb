{
 "cells": [
  {
   "cell_type": "code",
   "execution_count": 1,
   "id": "ec13e0dd",
   "metadata": {
    "executionInfo": {
     "elapsed": 9087,
     "status": "ok",
     "timestamp": 1652654231335,
     "user": {
      "displayName": "Sam",
      "userId": "12437677620512032560"
     },
     "user_tz": -60
    },
    "id": "ec13e0dd"
   },
   "outputs": [],
   "source": [
    "# Input data files are available in the \"../input/\" directory.\n",
    "# For example, running this (by clicking run or pressing Shift+Enter) will list the files in the input directory\n",
    "\n",
    "from keras import applications\n",
    "from keras.preprocessing.image import ImageDataGenerator\n",
    "from keras import optimizers\n",
    "from keras.models import Sequential, Model, load_model\n",
    "from keras.layers import Dense, GlobalAveragePooling2D\n",
    "from keras.layers import Activation, Dropout, Flatten, Dense\n",
    "from keras import backend as K\n",
    "import tensorflow as tf\n",
    "from keras.utils.data_utils import Sequence\n",
    "import sys\n",
    "from PIL import *\n",
    "import numpy as np\n",
    "from glob import glob\n",
    "import matplotlib.pyplot as plt\n",
    "import os\n",
    "import numpy as np\n",
    "import cv2   \n",
    "import os\n",
    "import random\n",
    "import matplotlib.pyplot as plt\n",
    "import pickle\n",
    "from tqdm import tqdm"
   ]
  },
  {
   "cell_type": "code",
   "execution_count": 2,
   "id": "m_An9puIHZ4J",
   "metadata": {
    "colab": {
     "base_uri": "https://localhost:8080/"
    },
    "executionInfo": {
     "elapsed": 15595,
     "status": "ok",
     "timestamp": 1652654016967,
     "user": {
      "displayName": "Sam",
      "userId": "12437677620512032560"
     },
     "user_tz": -60
    },
    "id": "m_An9puIHZ4J",
    "outputId": "8ae5b028-2bd7-48a3-e94d-c07d41c62526"
   },
   "outputs": [
    {
     "name": "stdout",
     "output_type": "stream",
     "text": [
      "Mounted at /content/drive\n"
     ]
    }
   ],
   "source": [
    "from google.colab import drive\n",
    "drive.mount('/content/drive')"
   ]
  },
  {
   "cell_type": "code",
   "execution_count": 4,
   "id": "c59b5def",
   "metadata": {
    "executionInfo": {
     "elapsed": 207,
     "status": "ok",
     "timestamp": 1652654020839,
     "user": {
      "displayName": "Sam",
      "userId": "12437677620512032560"
     },
     "user_tz": -60
    },
    "id": "c59b5def"
   },
   "outputs": [],
   "source": [
    "img_width, img_height = 224, 224\n",
    "IMG_SIZE = 224"
   ]
  },
  {
   "cell_type": "code",
   "execution_count": null,
   "id": "69db5770",
   "metadata": {
    "id": "69db5770"
   },
   "outputs": [],
   "source": [
    "'''\n",
    "CATEGORIES =['no_pneumonia','pneumonia']\n",
    "train_data = r'C:\\Users\\Computing\\Downloads\\data-task1\\data-task1\\data-task1\\train'\n",
    "test_data = r'C:\\Users\\Computing\\Downloads\\data-task1\\data-task1\\data-task1\\test'\n",
    "val_data = r'C:\\Users\\Computing\\Downloads\\data-task1\\data-task1\\data-task1\\val'\n",
    "\n",
    "def pre_pro(DIRECTORY):\n",
    "\n",
    "  data = []\n",
    "  #pre-processing\n",
    "  for category in CATEGORIES:\n",
    "        folder = os.path.join(DIRECTORY, category)\n",
    "        label = CATEGORIES.index(category)\n",
    "        for img in tqdm(os.listdir(folder)):\n",
    "            try:\n",
    "                img_path = os.path.join(folder, img)\n",
    "                #print(img_path)\n",
    "                #img_arr = cv2.imread(img_path)\n",
    "                #img_arr = cv2.imread(img_path, cv2.IMREAD_GRAYSCALE)\n",
    "                img_arr = cv2.imread(img_path)\n",
    "                img_arr = cv2.resize(img_arr, (IMG_SIZE, IMG_SIZE))\n",
    "                data.append([img_arr, label])\n",
    "            except Exception as e:\n",
    "                 pass\n",
    "  len(data)\n",
    "\n",
    "  random.shuffle(data)\n",
    "\n",
    "  X = []\n",
    "  Y = []\n",
    "    \n",
    "  for features, labels in data:\n",
    "   X.append(features)\n",
    "   Y.append(labels)\n",
    "    \n",
    "\n",
    "  #X = np.array(X).reshape(-1, IMG_SIZE, IMG_SIZE, 1)\n",
    "  X = np.array(X)\n",
    "  y = np.array(Y)\n",
    "  return X, y"
   ]
  },
  {
   "cell_type": "code",
   "execution_count": null,
   "id": "88db0bca",
   "metadata": {
    "id": "88db0bca"
   },
   "outputs": [],
   "source": [
    "X_train,y_train = pre_pro(r'C:\\Users\\Computing\\Downloads\\data-task1\\data-task1\\data-task1\\train')\n",
    "X_test,y_test = pre_pro(r'C:\\Users\\Computing\\Downloads\\data-task1\\data-task1\\data-task1\\test')\n",
    "X_val,y_val= pre_pro(r'C:\\Users\\Computing\\Downloads\\data-task1\\data-task1\\data-task1\\val')"
   ]
  },
  {
   "cell_type": "code",
   "execution_count": null,
   "id": "0f24f763",
   "metadata": {
    "id": "0f24f763"
   },
   "outputs": [],
   "source": [
    "'''\n",
    "pickle.dump(X_train, open(r'C:\\Users\\Computing\\Downloads\\X_train.pkl', 'wb'))\n",
    "pickle.dump(y_train, open(r'C:\\Users\\Computing\\Downloads\\y_train.pkl', 'wb'))\n",
    "pickle.dump(X_test, open(r'C:\\Users\\Computing\\Downloads\\X_test.pkl', 'wb'))\n",
    "pickle.dump(y_test, open(r'C:\\Users\\Computing\\Downloads\\Y_test.pkl', 'wb'))\n",
    "pickle.dump(X_val, open(r'C:\\Users\\Computing\\Downloads\\X_val.pkl', 'wb'))\n",
    "pickle.dump(y_val, open(r'C:\\Users\\Computing\\Downloads\\y_val.pkl', 'wb'))"
   ]
  },
  {
   "cell_type": "code",
   "execution_count": 2,
   "id": "71f30e48",
   "metadata": {
    "executionInfo": {
     "elapsed": 3989,
     "status": "ok",
     "timestamp": 1652654235308,
     "user": {
      "displayName": "Sam",
      "userId": "12437677620512032560"
     },
     "user_tz": -60
    },
    "id": "71f30e48"
   },
   "outputs": [],
   "source": [
    "import pickle\n",
    "from keras.models import Sequential\n",
    "from keras.layers import Conv2D, MaxPooling2D, Flatten, Dense\n",
    "from tensorflow.keras.callbacks import TensorBoard\n",
    "\n",
    "X_train = pickle.load(open(r'/content/drive/MyDrive/data-task1/data-task1/X_train.pkl','rb'))\n",
    "y_train = pickle.load(open(r'/content/drive/MyDrive/data-task1/data-task1/y_train.pkl','rb'))\n",
    "X_test = pickle.load(open(r'/content/drive/MyDrive/data-task1/data-task1/X_test.pkl','rb'))\n",
    "y_test = pickle.load(open(r'/content/drive/MyDrive/data-task1/data-task1/Y_test.pkl','rb'))\n",
    "X_val = pickle.load(open(r'/content/drive/MyDrive/data-task1/data-task1/X_val.pkl','rb'))\n",
    "y_val = pickle.load(open(r'/content/drive/MyDrive/data-task1/data-task1/y_val.pkl','rb'))"
   ]
  },
  {
   "cell_type": "code",
   "execution_count": null,
   "id": "VoQzaqNsyr3b",
   "metadata": {
    "colab": {
     "base_uri": "https://localhost:8080/"
    },
    "executionInfo": {
     "elapsed": 202,
     "status": "ok",
     "timestamp": 1652485934899,
     "user": {
      "displayName": "Sam",
      "userId": "12437677620512032560"
     },
     "user_tz": -60
    },
    "id": "VoQzaqNsyr3b",
    "outputId": "e3e126d8-f537-4fd3-afdc-55b278c7fb62"
   },
   "outputs": [
    {
     "data": {
      "text/plain": [
       "(500,)"
      ]
     },
     "execution_count": 9,
     "metadata": {},
     "output_type": "execute_result"
    }
   ],
   "source": [
    "y_val.shape"
   ]
  },
  {
   "cell_type": "code",
   "execution_count": null,
   "id": "koX8ZRqVoisx",
   "metadata": {
    "colab": {
     "base_uri": "https://localhost:8080/"
    },
    "executionInfo": {
     "elapsed": 227,
     "status": "ok",
     "timestamp": 1652485935902,
     "user": {
      "displayName": "Sam",
      "userId": "12437677620512032560"
     },
     "user_tz": -60
    },
    "id": "koX8ZRqVoisx",
    "outputId": "36721b67-d409-4a70-cbd4-2cd7b74f48a9"
   },
   "outputs": [
    {
     "data": {
      "text/plain": [
       "(500, 224, 224, 3)"
      ]
     },
     "execution_count": 10,
     "metadata": {},
     "output_type": "execute_result"
    }
   ],
   "source": [
    "X_val.shape"
   ]
  },
  {
   "cell_type": "code",
   "execution_count": null,
   "id": "jWEorle2yn_S",
   "metadata": {
    "id": "jWEorle2yn_S"
   },
   "outputs": [],
   "source": [
    "#X_trainShape = X_train.shape[1]*X_train.shape[2]*X_train.shape[3]\n",
    "#X_testShape = X_test.shape[1]*X_test.shape[2]*X_test.shape[3]\n",
    "X_valShape = X_val.shape[1]*X_val.shape[2]*X_val.shape[3]\n",
    "#X_trainFlat = X_train.reshape(X_train.shape[0], X_trainShape)\n",
    "#X_testFlat = X_test.reshape(X_test.shape[0], X_testShape)\n",
    "X_valFlat = X_val.reshape(X_val.shape[0], X_valShape)\n",
    "#Y_train = y_train\n",
    "#Y_test = y_test\n",
    "Y_val = y_val\n",
    "#ros = RandomOverSampler(ratio='auto')\n",
    "from imblearn.over_sampling import SMOTE \n",
    "ros = SMOTE(random_state=42)\n",
    "#X_trainRos, Y_trainRos = ros.fit_resample(X_trainFlat, Y_train)\n",
    "#X_testRos, Y_testRos = ros.fit_resample(X_testFlat, Y_test)\n",
    "X_valRos, Y_valRos = ros.fit_resample(X_valFlat, Y_val)\n",
    "# Encode labels to hot vectors (ex : 2 -> [0,0,1,0,0,0,0,0,0,0])\n",
    "import tensorflow\n",
    "from tensorflow.keras.utils import to_categorical\n",
    "#Y_trainRosHot = to_categorical(Y_trainRos, num_classes = 2)\n",
    "#Y_testRosHot = to_categorical(Y_testRos, num_classes = 2)\n",
    "Y_valRosHot = to_categorical(Y_valRos, num_classes = 2)\n"
   ]
  },
  {
   "cell_type": "code",
   "execution_count": null,
   "id": "R8EzWRJqS5Yo",
   "metadata": {
    "id": "R8EzWRJqS5Yo"
   },
   "outputs": [],
   "source": [
    "#X_trainRos, Y_trainRos = ros.fit_resample(X_trainFlat, Y_train)\n",
    "#X_testRos, Y_testRos = ros.fit_resample(X_testFlat, Y_test)\n",
    "X_valRos, Y_valRos = ros.fit_resample(X_valFlat, Y_val)"
   ]
  },
  {
   "cell_type": "code",
   "execution_count": null,
   "id": "8ymCdzK5om5B",
   "metadata": {
    "id": "8ymCdzK5om5B"
   },
   "outputs": [],
   "source": [
    "X_trainShape = X_train.shape[1]*X_train.shape[2]*X_train.shape[3]\n",
    "X_trainFlat = X_train.reshape(X_train.shape[0], X_trainShape)\n",
    "Y_train = y_train\n",
    "from imblearn.under_sampling import RandomUnderSampler\n",
    "from tensorflow.keras.utils import to_categorical\n",
    "ros1 = RandomUnderSampler(random_state=11)\n",
    "X_trainRos, Y_trainRos = ros1.fit_resample(X_trainFlat, Y_train)\n",
    "Y_trainRosHot = to_categorical(Y_trainRos, num_classes = 2)\n",
    "#X_valRos, Y_valRos = ros.fit_resample(X_valFlat, Y_val)\n",
    "for i in range(len(X_trainRos)):\n",
    "    height, width, channels = 224,224,3\n",
    "    X_trainRosReshaped = X_trainRos.reshape(len(X_trainRos),height,width,channels)\n",
    "Y_trainRosHot = to_categorical(Y_trainRos, num_classes = 2)\n",
    "\n",
    "X_train = X_trainRosReshaped\n",
    "y_train = Y_trainRosHot"
   ]
  },
  {
   "cell_type": "code",
   "execution_count": null,
   "id": "QkwH7nc70c0o",
   "metadata": {
    "colab": {
     "base_uri": "https://localhost:8080/"
    },
    "executionInfo": {
     "elapsed": 209,
     "status": "ok",
     "timestamp": 1652487297736,
     "user": {
      "displayName": "Sam",
      "userId": "12437677620512032560"
     },
     "user_tz": -60
    },
    "id": "QkwH7nc70c0o",
    "outputId": "ba676bcf-f214-4084-a523-06fa1c866ecd"
   },
   "outputs": [
    {
     "data": {
      "text/plain": [
       "(1284, 2)"
      ]
     },
     "execution_count": 21,
     "metadata": {},
     "output_type": "execute_result"
    }
   ],
   "source": [
    "y_train.shape"
   ]
  },
  {
   "cell_type": "code",
   "execution_count": null,
   "id": "YcyX7c3Yzj_L",
   "metadata": {
    "id": "YcyX7c3Yzj_L"
   },
   "outputs": [],
   "source": [
    "X_valShape = X_val.shape[1]*X_val.shape[2]*X_val.shape[3]\n",
    "X_valFlat = X_val.reshape(X_val.shape[0], X_valShape)\n",
    "Y_val = y_val\n",
    "from imblearn.over_sampling import SMOTE \n",
    "ros = SMOTE(random_state=42)\n",
    "X_valRos, Y_valRos = ros.fit_resample(X_valFlat, Y_val)\n",
    "Y_valRosHot = to_categorical(Y_valRos, num_classes = 2)\n",
    "#X_valRos, Y_valRos = ros.fit_resample(X_valFlat, Y_val)\n",
    "for i in range(len(X_valRos)):\n",
    "    height, width, channels = 224,224,3\n",
    "    X_valRosReshaped = X_valRos.reshape(len(X_valRos),height,width,channels)\n",
    "Y_valRosHot = to_categorical(Y_valRos, num_classes = 2)\n",
    "X_val = X_valRosReshaped\n",
    "y_val = Y_valRosHot"
   ]
  },
  {
   "cell_type": "code",
   "execution_count": null,
   "id": "qqg6X6Rcx4G3",
   "metadata": {
    "colab": {
     "base_uri": "https://localhost:8080/"
    },
    "executionInfo": {
     "elapsed": 306,
     "status": "ok",
     "timestamp": 1652487245294,
     "user": {
      "displayName": "Sam",
      "userId": "12437677620512032560"
     },
     "user_tz": -60
    },
    "id": "qqg6X6Rcx4G3",
    "outputId": "39aedc2a-d67a-47cb-e8f3-c922af3d2ad0"
   },
   "outputs": [
    {
     "data": {
      "text/plain": [
       "(780, 224, 224, 3)"
      ]
     },
     "execution_count": 17,
     "metadata": {},
     "output_type": "execute_result"
    }
   ],
   "source": [
    "X_val.shape"
   ]
  },
  {
   "cell_type": "code",
   "execution_count": null,
   "id": "E_8lbdEpyoH1",
   "metadata": {
    "id": "E_8lbdEpyoH1"
   },
   "outputs": [],
   "source": [
    "X_valShape = X_val.shape[1]*X_val.shape[2]*X_val.shape[3]"
   ]
  },
  {
   "cell_type": "code",
   "execution_count": null,
   "id": "MD6d6jbrpJXz",
   "metadata": {
    "id": "MD6d6jbrpJXz"
   },
   "outputs": [],
   "source": [
    "X_valShape = X_val.shape[1]*X_val.shape[2]*X_val.shape[3]\n",
    "X_valFlat = X_val.reshape(X_val.shape[0], X_valShape)\n",
    "Y_val = y_val\n",
    "from imblearn.over_sampling import SMOTE \n",
    "ros = SMOTE(random_state=657)\n",
    "X_valRos, Y_valRos = ros.fit_resample(X_valFlat, Y_val)\n",
    "Y_valRosHot = to_categorical(Y_valRos, num_classes = 2)\n",
    "X_valRos, Y_valRos = ros.fit_resample(X_valFlat, Y_val)\n",
    "for i in range(len(X_valRos)):\n",
    "    height, width, channels = 224,224,3\n",
    "    X_valRosReshaped = X_valRos.reshape(len(X_valRos),height,width,channels)\n",
    "Y_valRosHot = to_categorical(Y_valRos, num_classes = 2)\n",
    "X_val = X_valRosReshaped\n",
    "y_val = Y_valRosHot"
   ]
  },
  {
   "cell_type": "code",
   "execution_count": null,
   "id": "IzBdjWGhwN5l",
   "metadata": {
    "id": "IzBdjWGhwN5l"
   },
   "outputs": [],
   "source": [
    "y_val = Y_valRosHot"
   ]
  },
  {
   "cell_type": "code",
   "execution_count": null,
   "id": "daYKUnoso7EZ",
   "metadata": {
    "colab": {
     "base_uri": "https://localhost:8080/"
    },
    "executionInfo": {
     "elapsed": 202,
     "status": "ok",
     "timestamp": 1652484383442,
     "user": {
      "displayName": "Sam",
      "userId": "12437677620512032560"
     },
     "user_tz": -60
    },
    "id": "daYKUnoso7EZ",
    "outputId": "3e12601e-dd1c-4fab-f20c-3a939887ec06"
   },
   "outputs": [
    {
     "data": {
      "text/plain": [
       "(780, 224, 224, 3)"
      ]
     },
     "execution_count": 27,
     "metadata": {},
     "output_type": "execute_result"
    }
   ],
   "source": [
    "X_valRosReshaped.shape"
   ]
  },
  {
   "cell_type": "code",
   "execution_count": null,
   "id": "XU1MXjo_zeID",
   "metadata": {
    "id": "XU1MXjo_zeID"
   },
   "outputs": [],
   "source": [
    "'''\n",
    "for i in range(len(X_trainRos)):\n",
    "    height, width, channels = 224,224,3\n",
    "    X_trainRosReshaped = X_trainRos.reshape(len(X_trainRos),height,width,channels)\n",
    "for i in range(len(X_testRos)):\n",
    "    height, width, channels = 224,224,3\n",
    "    X_testRosReshaped = X_testRos.reshape(len(X_testRos),height,width,channels)\n",
    "'''\n",
    "for i in range(len(X_valRos)):\n",
    "    height, width, channels = 224,224,3\n",
    "    X_valRosReshaped = X_valRos.reshape(len(X_valRos),height,width,channels)"
   ]
  },
  {
   "cell_type": "code",
   "execution_count": null,
   "id": "XNbp_H3LztFH",
   "metadata": {
    "colab": {
     "base_uri": "https://localhost:8080/"
    },
    "executionInfo": {
     "elapsed": 2,
     "status": "ok",
     "timestamp": 1652474070846,
     "user": {
      "displayName": "Sam",
      "userId": "12437677620512032560"
     },
     "user_tz": -60
    },
    "id": "XNbp_H3LztFH",
    "outputId": "99d942c6-567e-4d80-bf09-570ec227297a"
   },
   "outputs": [
    {
     "data": {
      "text/plain": [
       "(4716, 224, 224, 3)"
      ]
     },
     "execution_count": 8,
     "metadata": {},
     "output_type": "execute_result"
    }
   ],
   "source": [
    "X_trainRosReshaped.shape"
   ]
  },
  {
   "cell_type": "code",
   "execution_count": null,
   "id": "gzem1UeLpMpx",
   "metadata": {
    "colab": {
     "base_uri": "https://localhost:8080/"
    },
    "executionInfo": {
     "elapsed": 221,
     "status": "ok",
     "timestamp": 1652482498198,
     "user": {
      "displayName": "Sam",
      "userId": "12437677620512032560"
     },
     "user_tz": -60
    },
    "id": "gzem1UeLpMpx",
    "outputId": "6ce0b07c-7204-4722-97d1-c9b1cc5c491a"
   },
   "outputs": [
    {
     "data": {
      "text/plain": [
       "(780, 2)"
      ]
     },
     "execution_count": 9,
     "metadata": {},
     "output_type": "execute_result"
    }
   ],
   "source": [
    "Y_valRosHot.shape"
   ]
  },
  {
   "cell_type": "code",
   "execution_count": null,
   "id": "ooASvWq-pQ_1",
   "metadata": {
    "colab": {
     "base_uri": "https://localhost:8080/"
    },
    "executionInfo": {
     "elapsed": 272,
     "status": "ok",
     "timestamp": 1652415605629,
     "user": {
      "displayName": "Sam",
      "userId": "12437677620512032560"
     },
     "user_tz": -60
    },
    "id": "ooASvWq-pQ_1",
    "outputId": "7e9c9196-a2dc-4069-cc21-7278d2827a0e"
   },
   "outputs": [
    {
     "data": {
      "text/plain": [
       "(790, 2)"
      ]
     },
     "execution_count": 16,
     "metadata": {},
     "output_type": "execute_result"
    }
   ],
   "source": [
    "Y_testRosHot.shape"
   ]
  },
  {
   "cell_type": "code",
   "execution_count": null,
   "id": "XUAuAvcOzTj8",
   "metadata": {
    "colab": {
     "base_uri": "https://localhost:8080/"
    },
    "executionInfo": {
     "elapsed": 290,
     "status": "ok",
     "timestamp": 1652415635575,
     "user": {
      "displayName": "Sam",
      "userId": "12437677620512032560"
     },
     "user_tz": -60
    },
    "id": "XUAuAvcOzTj8",
    "outputId": "3b7fcb19-2b83-49fd-c3ca-eca5120731f5"
   },
   "outputs": [
    {
     "data": {
      "text/plain": [
       "(790, 224, 224, 3)"
      ]
     },
     "execution_count": 17,
     "metadata": {},
     "output_type": "execute_result"
    }
   ],
   "source": [
    "X_testRosReshaped.shape"
   ]
  },
  {
   "cell_type": "code",
   "execution_count": 3,
   "id": "92e36182",
   "metadata": {
    "executionInfo": {
     "elapsed": 2181,
     "status": "ok",
     "timestamp": 1652654237697,
     "user": {
      "displayName": "Sam",
      "userId": "12437677620512032560"
     },
     "user_tz": -60
    },
    "id": "92e36182"
   },
   "outputs": [],
   "source": [
    "X_train = X_train/ 255;\n",
    "X_test = X_test/ 255;\n",
    "X_val = X_val/ 255;\n",
    "\n",
    "\n",
    "\n",
    "from keras.preprocessing.image import ImageDataGenerator\n",
    "train_datagen = ImageDataGenerator(\n",
    "    rescale = 1/244,\n",
    "    shear_range=0.2,\n",
    "    zoom_range=0.2,\n",
    "    horizontal_flip=True)\n",
    "\n",
    "test_datagen = ImageDataGenerator(rotation_range=10,\n",
    "        rescale = 1/244,\n",
    "        width_shift_range=0.2, # horizontal shift\n",
    "        height_shift_range=0.2, # vertical shift\n",
    "        zoom_range=0.2, # zoom\n",
    "        horizontal_flip=True, # horizontal flip\n",
    "        brightness_range=[0.2,1.2])\n",
    "\n",
    "val_datagen = ImageDataGenerator(rescale = 1/244,rotation_range=10, # rotation\n",
    "        width_shift_range=0.2, # horizontal shift\n",
    "        height_shift_range=0.2, # vertical shift\n",
    "        zoom_range=0.2, # zoom\n",
    "        horizontal_flip=True, # horizontal flip\n",
    "        brightness_range=[0.2,1.2])\n",
    "\n",
    "\n",
    "\n"
   ]
  },
  {
   "cell_type": "code",
   "execution_count": null,
   "id": "9J48z5ozZrEV",
   "metadata": {
    "colab": {
     "base_uri": "https://localhost:8080/"
    },
    "executionInfo": {
     "elapsed": 800,
     "status": "ok",
     "timestamp": 1652377991163,
     "user": {
      "displayName": "Sam",
      "userId": "12437677620512032560"
     },
     "user_tz": -60
    },
    "id": "9J48z5ozZrEV",
    "outputId": "014a4470-104b-409f-9535-fe7ec1093d33"
   },
   "outputs": [
    {
     "data": {
      "text/plain": [
       "94"
      ]
     },
     "execution_count": 23,
     "metadata": {},
     "output_type": "execute_result"
    }
   ],
   "source": [
    "len(validation_generator)"
   ]
  },
  {
   "cell_type": "code",
   "execution_count": 4,
   "id": "vwwAB4NrXA7y",
   "metadata": {
    "executionInfo": {
     "elapsed": 3592,
     "status": "ok",
     "timestamp": 1652654241550,
     "user": {
      "displayName": "Sam",
      "userId": "12437677620512032560"
     },
     "user_tz": -60
    },
    "id": "vwwAB4NrXA7y"
   },
   "outputs": [],
   "source": [
    "train_datagen.fit(X_train)\n",
    "test_datagen.fit(X_test)\n",
    "val_datagen.fit(X_val)"
   ]
  },
  {
   "cell_type": "code",
   "execution_count": null,
   "id": "Tso8WQEmTSdB",
   "metadata": {
    "colab": {
     "base_uri": "https://localhost:8080/"
    },
    "executionInfo": {
     "elapsed": 529,
     "status": "ok",
     "timestamp": 1652415559623,
     "user": {
      "displayName": "Sam",
      "userId": "12437677620512032560"
     },
     "user_tz": -60
    },
    "id": "Tso8WQEmTSdB",
    "outputId": "661a3bee-9c85-46c0-93af-fd3243b047ce"
   },
   "outputs": [
    {
     "data": {
      "text/plain": [
       "(500,)"
      ]
     },
     "execution_count": 14,
     "metadata": {},
     "output_type": "execute_result"
    }
   ],
   "source": [
    "y_test.shape"
   ]
  },
  {
   "cell_type": "code",
   "execution_count": null,
   "id": "LZ5yOUKFTVDc",
   "metadata": {
    "colab": {
     "base_uri": "https://localhost:8080/"
    },
    "executionInfo": {
     "elapsed": 207,
     "status": "ok",
     "timestamp": 1652484677432,
     "user": {
      "displayName": "Sam",
      "userId": "12437677620512032560"
     },
     "user_tz": -60
    },
    "id": "LZ5yOUKFTVDc",
    "outputId": "a499d42c-5955-48a0-e377-01fc13a1f283"
   },
   "outputs": [
    {
     "data": {
      "text/plain": [
       "(780, 2)"
      ]
     },
     "execution_count": 39,
     "metadata": {},
     "output_type": "execute_result"
    }
   ],
   "source": [
    "y_val.shape"
   ]
  },
  {
   "cell_type": "code",
   "execution_count": 5,
   "id": "6102d255",
   "metadata": {
    "executionInfo": {
     "elapsed": 8,
     "status": "ok",
     "timestamp": 1652654241552,
     "user": {
      "displayName": "Sam",
      "userId": "12437677620512032560"
     },
     "user_tz": -60
    },
    "id": "6102d255"
   },
   "outputs": [],
   "source": [
    "import tensorflow\n",
    "from tensorflow.keras.utils import to_categorical\n",
    "y_train = to_categorical(y_train, 2)\n",
    "y_test = to_categorical(y_test, 2)\n",
    "y_val = to_categorical(y_val, 2)"
   ]
  },
  {
   "cell_type": "code",
   "execution_count": 6,
   "id": "Inz2kv0_HqWg",
   "metadata": {
    "colab": {
     "base_uri": "https://localhost:8080/"
    },
    "executionInfo": {
     "elapsed": 8,
     "status": "ok",
     "timestamp": 1652654241553,
     "user": {
      "displayName": "Sam",
      "userId": "12437677620512032560"
     },
     "user_tz": -60
    },
    "id": "Inz2kv0_HqWg",
    "outputId": "ffde1659-42af-41e8-b245-73719c9d1ffa"
   },
   "outputs": [
    {
     "name": "stdout",
     "output_type": "stream",
     "text": [
      "Weight for class 0: 0.25\n",
      "Weight for class 1: 0.75\n"
     ]
    }
   ],
   "source": [
    "weight_for_0 = 0.25\n",
    "weight_for_1 = 0.75\n",
    "class_weight = {0: weight_for_0, 1: weight_for_1\n",
    "#weight_for_0 = (1 / 752)*(3500)/2.0 \n",
    "#weight_for_1 = (1 / 2748)*(3500)/2.0\n",
    "\n",
    "class_weight = {0: weight_for_0, 1: weight_for_1}\n",
    "\n",
    "print(f\"Weight for class 0: {weight_for_0:.2f}\")\n",
    "print(f\"Weight for class 1: {weight_for_1:.2f}\")"
   ]
  },
  {
   "cell_type": "code",
   "execution_count": null,
   "id": "vSnl1cYCEjxG",
   "metadata": {
    "colab": {
     "base_uri": "https://localhost:8080/"
    },
    "executionInfo": {
     "elapsed": 314,
     "status": "ok",
     "timestamp": 1652478471080,
     "user": {
      "displayName": "Sam",
      "userId": "12437677620512032560"
     },
     "user_tz": -60
    },
    "id": "vSnl1cYCEjxG",
    "outputId": "7c6d97d8-50bd-4481-a9bc-e4082902854b"
   },
   "outputs": [
    {
     "data": {
      "text/plain": [
       "{0: 2.327127659574468, 1: 0.6368267831149927}"
      ]
     },
     "execution_count": 35,
     "metadata": {},
     "output_type": "execute_result"
    }
   ],
   "source": [
    "class_weight"
   ]
  },
  {
   "cell_type": "code",
   "execution_count": 11,
   "id": "2739d72a",
   "metadata": {
    "colab": {
     "base_uri": "https://localhost:8080/"
    },
    "executionInfo": {
     "elapsed": 225,
     "status": "ok",
     "timestamp": 1652654088609,
     "user": {
      "displayName": "Sam",
      "userId": "12437677620512032560"
     },
     "user_tz": -60
    },
    "id": "2739d72a",
    "outputId": "de9876f5-c1be-4304-96bf-5578b71fac4a"
   },
   "outputs": [
    {
     "data": {
      "text/plain": [
       "(3000, 224, 224, 3)"
      ]
     },
     "execution_count": 11,
     "metadata": {},
     "output_type": "execute_result"
    }
   ],
   "source": [
    "X_train.shape"
   ]
  },
  {
   "cell_type": "code",
   "execution_count": 12,
   "id": "9ffa7f7d",
   "metadata": {
    "colab": {
     "base_uri": "https://localhost:8080/"
    },
    "executionInfo": {
     "elapsed": 5,
     "status": "ok",
     "timestamp": 1652654089645,
     "user": {
      "displayName": "Sam",
      "userId": "12437677620512032560"
     },
     "user_tz": -60
    },
    "id": "9ffa7f7d",
    "outputId": "c402cbe5-0775-4fc5-db37-03e6f067e204"
   },
   "outputs": [
    {
     "data": {
      "text/plain": [
       "(3000, 2)"
      ]
     },
     "execution_count": 12,
     "metadata": {},
     "output_type": "execute_result"
    }
   ],
   "source": [
    "y_train.shape"
   ]
  },
  {
   "cell_type": "raw",
   "id": "193b3a29",
   "metadata": {
    "id": "193b3a29"
   },
   "source": [
    "y_train.shape"
   ]
  },
  {
   "cell_type": "code",
   "execution_count": 7,
   "id": "7ed2ac5d",
   "metadata": {
    "colab": {
     "base_uri": "https://localhost:8080/"
    },
    "executionInfo": {
     "elapsed": 509629,
     "status": "ok",
     "timestamp": 1652654757583,
     "user": {
      "displayName": "Sam",
      "userId": "12437677620512032560"
     },
     "user_tz": -60
    },
    "id": "7ed2ac5d",
    "outputId": "3ac7db7f-e178-45a6-b250-9838867e1443"
   },
   "outputs": [
    {
     "name": "stderr",
     "output_type": "stream",
     "text": [
      "/usr/local/lib/python3.7/dist-packages/keras/optimizer_v2/gradient_descent.py:102: UserWarning: The `lr` argument is deprecated, use `learning_rate` instead.\n",
      "  super(SGD, self).__init__(name, **kwargs)\n",
      "/usr/local/lib/python3.7/dist-packages/keras/optimizer_v2/rmsprop.py:130: UserWarning: The `lr` argument is deprecated, use `learning_rate` instead.\n",
      "  super(RMSprop, self).__init__(name, **kwargs)\n"
     ]
    },
    {
     "name": "stdout",
     "output_type": "stream",
     "text": [
      "Epoch 1/25\n",
      "94/94 [==============================] - 44s 337ms/step - loss: 0.4351 - accuracy: 0.5813 - val_loss: 0.5424 - val_accuracy: 0.7640\n",
      "Epoch 2/25\n",
      "94/94 [==============================] - 19s 199ms/step - loss: 0.3313 - accuracy: 0.6073 - val_loss: 0.5343 - val_accuracy: 0.7500\n",
      "Epoch 3/25\n",
      "94/94 [==============================] - 18s 193ms/step - loss: 0.3193 - accuracy: 0.6153 - val_loss: 0.5470 - val_accuracy: 0.7300\n",
      "Epoch 4/25\n",
      "94/94 [==============================] - 18s 189ms/step - loss: 0.2911 - accuracy: 0.6197 - val_loss: 0.5279 - val_accuracy: 0.7280\n",
      "Epoch 5/25\n",
      "94/94 [==============================] - 18s 189ms/step - loss: 0.2742 - accuracy: 0.6473 - val_loss: 0.5231 - val_accuracy: 0.7320\n",
      "Epoch 6/25\n",
      "94/94 [==============================] - 18s 191ms/step - loss: 0.2634 - accuracy: 0.6513 - val_loss: 0.5113 - val_accuracy: 0.7120\n",
      "Epoch 7/25\n",
      "94/94 [==============================] - 18s 194ms/step - loss: 0.2611 - accuracy: 0.6580 - val_loss: 0.5075 - val_accuracy: 0.7340\n",
      "Epoch 8/25\n",
      "94/94 [==============================] - 18s 194ms/step - loss: 0.2415 - accuracy: 0.6760 - val_loss: 0.4987 - val_accuracy: 0.7300\n",
      "Epoch 9/25\n",
      "94/94 [==============================] - 18s 193ms/step - loss: 0.2508 - accuracy: 0.6657 - val_loss: 0.5010 - val_accuracy: 0.7280\n",
      "Epoch 10/25\n",
      "94/94 [==============================] - 18s 191ms/step - loss: 0.2374 - accuracy: 0.6833 - val_loss: 0.4920 - val_accuracy: 0.7460\n",
      "Epoch 11/25\n",
      "94/94 [==============================] - 18s 191ms/step - loss: 0.2435 - accuracy: 0.6763 - val_loss: 0.4853 - val_accuracy: 0.7440\n",
      "Epoch 12/25\n",
      "94/94 [==============================] - 18s 191ms/step - loss: 0.2258 - accuracy: 0.7010 - val_loss: 0.4803 - val_accuracy: 0.7480\n",
      "Epoch 13/25\n",
      "94/94 [==============================] - 18s 191ms/step - loss: 0.2317 - accuracy: 0.7107 - val_loss: 0.4842 - val_accuracy: 0.7480\n",
      "Epoch 14/25\n",
      "94/94 [==============================] - 18s 191ms/step - loss: 0.2361 - accuracy: 0.7000 - val_loss: 0.4866 - val_accuracy: 0.7420\n",
      "Epoch 15/25\n",
      "94/94 [==============================] - 18s 191ms/step - loss: 0.2249 - accuracy: 0.7167 - val_loss: 0.4816 - val_accuracy: 0.7580\n",
      "Epoch 16/25\n",
      "94/94 [==============================] - 18s 191ms/step - loss: 0.2115 - accuracy: 0.7193 - val_loss: 0.4804 - val_accuracy: 0.7440\n",
      "Epoch 17/25\n",
      "94/94 [==============================] - 18s 191ms/step - loss: 0.2180 - accuracy: 0.7257 - val_loss: 0.4715 - val_accuracy: 0.7600\n",
      "Epoch 18/25\n",
      "94/94 [==============================] - 18s 191ms/step - loss: 0.2213 - accuracy: 0.7207 - val_loss: 0.4805 - val_accuracy: 0.7540\n",
      "Epoch 19/25\n",
      "94/94 [==============================] - 18s 191ms/step - loss: 0.2052 - accuracy: 0.7350 - val_loss: 0.4703 - val_accuracy: 0.7580\n",
      "Epoch 20/25\n",
      "94/94 [==============================] - 18s 191ms/step - loss: 0.2142 - accuracy: 0.7277 - val_loss: 0.4718 - val_accuracy: 0.7600\n",
      "Epoch 21/25\n",
      "94/94 [==============================] - 18s 192ms/step - loss: 0.2109 - accuracy: 0.7427 - val_loss: 0.4751 - val_accuracy: 0.7600\n",
      "Epoch 22/25\n",
      "94/94 [==============================] - 18s 191ms/step - loss: 0.2054 - accuracy: 0.7507 - val_loss: 0.4757 - val_accuracy: 0.7600\n",
      "Epoch 23/25\n",
      "94/94 [==============================] - 18s 192ms/step - loss: 0.2097 - accuracy: 0.7540 - val_loss: 0.4801 - val_accuracy: 0.7580\n",
      "Epoch 24/25\n",
      "94/94 [==============================] - 18s 192ms/step - loss: 0.2051 - accuracy: 0.7513 - val_loss: 0.4770 - val_accuracy: 0.7660\n",
      "Epoch 25/25\n",
      "94/94 [==============================] - 18s 193ms/step - loss: 0.1982 - accuracy: 0.7563 - val_loss: 0.4735 - val_accuracy: 0.7600\n"
     ]
    }
   ],
   "source": [
    "from keras.layers.pooling import GlobalMaxPooling2D\n",
    "import keras\n",
    "from keras.applications.vgg16 import VGG16\n",
    "model = VGG16(input_shape =(224,224,3) ,weights='imagenet', include_top=False)\n",
    "\n",
    "for layer in model.layers:\n",
    "    layer.trainable = False\n",
    "\n",
    "result = model.output\n",
    "\n",
    "from keras.layers import BatchNormalization\n",
    "result = BatchNormalization()(result)\n",
    "result = Flatten()(result)\n",
    "# add a fully-connected layer\n",
    "\n",
    "result = Dense(512, activation='relu')(result)\n",
    "result = Dropout(0.5)(result)\n",
    "\n",
    "result = Dense(256, activation='relu')(result)\n",
    "result = Dropout(0.5)(result)\n",
    "\n",
    "result = Dense(128, activation='relu')(result)\n",
    "result = Dropout(0.5)(result)\n",
    "\n",
    "result = Dense(64, activation='relu')(result)\n",
    "result = Dropout(0.5)(result)\n",
    "\n",
    "\n",
    "#result = Dropout(0.5)(result)\n",
    "\n",
    "# and a fully connected output/classification layer\n",
    "\n",
    "predictions = Dense(2, activation='sigmoid')(result)\n",
    "vgg_model = Model(inputs=model.input, outputs=predictions)\n",
    "\n",
    "from tensorflow.keras.optimizers import SGD\n",
    "import tensorflow as tf\n",
    "sgd = tf.optimizers.SGD(lr=1e-4, momentum=0.9)\n",
    "vgg_model.compile(loss='categorical_crossentropy',optimizer= tf.keras.optimizers.RMSprop(lr=2e-5) ,metrics=['accuracy'])\n",
    "import tensorflow as tf\n",
    "#history = vgg_model.fit(X_trainRosReshaped,Y_trainRosHot, validation_data=(X_testRosReshaped, Y_testRosHot), epochs=10, batch_size=32, verbose=1, class_weight=class_weight)\n",
    "history = vgg_model.fit(X_train,y_train, validation_data=(X_val, y_val), epochs=25, batch_size=32, verbose=1, class_weight=class_weight)\n",
    "#history = vgg_model.fit(train_generator, validation_generator, epochs=5, batch_size=32, verbose=1)\n",
    "#history = vgg_model.fit_generator(train_generator, validation_data=validation_generator, epochs=5)"
   ]
  },
  {
   "cell_type": "code",
   "execution_count": 8,
   "id": "Aqb9tuOVdWby",
   "metadata": {
    "colab": {
     "base_uri": "https://localhost:8080/"
    },
    "executionInfo": {
     "elapsed": 541,
     "status": "ok",
     "timestamp": 1652654767199,
     "user": {
      "displayName": "Sam",
      "userId": "12437677620512032560"
     },
     "user_tz": -60
    },
    "id": "Aqb9tuOVdWby",
    "outputId": "cd6a6c7c-b09b-4e02-9e35-06884a9a1da5"
   },
   "outputs": [
    {
     "name": "stdout",
     "output_type": "stream",
     "text": [
      "WARNING:tensorflow:Compiled the loaded model, but the compiled metrics have yet to be built. `model.compile_metrics` will be empty until you train or evaluate the model.\n"
     ]
    }
   ],
   "source": [
    "model.save(r'/content/drive/MyDrive/data-task1/data-task1/vgg_class_weight_batch.h5')"
   ]
  },
  {
   "cell_type": "code",
   "execution_count": null,
   "id": "JG18mLHCkyKS",
   "metadata": {
    "colab": {
     "base_uri": "https://localhost:8080/"
    },
    "executionInfo": {
     "elapsed": 4685,
     "status": "ok",
     "timestamp": 1652585516042,
     "user": {
      "displayName": "Sam",
      "userId": "12437677620512032560"
     },
     "user_tz": -60
    },
    "id": "JG18mLHCkyKS",
    "outputId": "5d092df4-238e-426a-a27b-ac927916489e"
   },
   "outputs": [
    {
     "name": "stdout",
     "output_type": "stream",
     "text": [
      "WARNING:tensorflow:No training configuration found in the save file, so the model was *not* compiled. Compile it manually.\n"
     ]
    }
   ],
   "source": [
    "from tensorflow import keras\n",
    "vgg_model = keras.models.load_model(r'/content/drive/MyDrive/data-task1/data-task1/vgg_smote_good_batch.h5')"
   ]
  },
  {
   "cell_type": "code",
   "execution_count": 9,
   "id": "AUsJq4XAvIpp",
   "metadata": {
    "colab": {
     "base_uri": "https://localhost:8080/",
     "height": 1000
    },
    "executionInfo": {
     "elapsed": 1344,
     "status": "ok",
     "timestamp": 1652654771910,
     "user": {
      "displayName": "Sam",
      "userId": "12437677620512032560"
     },
     "user_tz": -60
    },
    "id": "AUsJq4XAvIpp",
    "outputId": "d8aeee64-e96b-45dc-98c1-f75104473c5a"
   },
   "outputs": [
    {
     "data": {
      "image/png": "[encoded data removed]",
      "text/plain": [
       "<Figure size 1152x648 with 1 Axes>"
      ]
     },
     "metadata": {
      "needs_background": "light"
     },
     "output_type": "display_data"
    },
    {
     "data": {
      "image/png": "[encoded data removed]",
      "text/plain": [
       "<Figure size 1152x648 with 1 Axes>"
      ]
     },
     "metadata": {
      "needs_background": "light"
     },
     "output_type": "display_data"
    },
    {
     "data": {
      "image/png": "[encoded data removed]",
      "text/plain": [
       "<Figure size 1152x648 with 1 Axes>"
      ]
     },
     "metadata": {
      "needs_background": "light"
     },
     "output_type": "display_data"
    },
    {
     "data": {
      "image/png": "[encoded data removed]",
      "text/plain": [
       "<Figure size 1152x648 with 1 Axes>"
      ]
     },
     "metadata": {
      "needs_background": "light"
     },
     "output_type": "display_data"
    }
   ],
   "source": [
    "plt.figure(figsize=(16, 9))\n",
    "plt.plot(history.epoch, history.history['accuracy'])\n",
    "plt.title('Model Accuracy')\n",
    "plt.legend(['train'], loc='upper left')\n",
    "plt.show()\n",
    "\n",
    "plt.figure(figsize=(16, 9))\n",
    "plt.plot(history.epoch, history.history['loss'])\n",
    "plt.title('Model Loss')\n",
    "plt.legend(['train'], loc='upper left')\n",
    "plt.show()\n",
    "\n",
    "plt.figure(figsize=(16, 9))\n",
    "plt.plot(history.epoch, history.history['val_accuracy'])\n",
    "plt.title('Model Validation Accuracy')\n",
    "plt.legend(['train'], loc='upper left')\n",
    "plt.show()\n",
    "\n",
    "plt.figure(figsize=(16, 9))\n",
    "plt.plot(history.epoch, history.history['val_loss'])\n",
    "plt.title('Model Validation Loss')\n",
    "plt.legend(['train'], loc='upper left')\n",
    "plt.show()"
   ]
  },
  {
   "cell_type": "code",
   "execution_count": 10,
   "id": "4a19ef76",
   "metadata": {
    "executionInfo": {
     "elapsed": 4653,
     "status": "ok",
     "timestamp": 1652654826724,
     "user": {
      "displayName": "Sam",
      "userId": "12437677620512032560"
     },
     "user_tz": -60
    },
    "id": "4a19ef76",
    "scrolled": true
   },
   "outputs": [],
   "source": [
    "from sklearn.metrics import confusion_matrix\n",
    "pred = vgg_model.predict(X_test)\n",
    "pred = np.argmax(pred, axis=1) \n",
    "y_true = np.argmax(y_test, axis=1)\n",
    "\n",
    "#pip install mlxtend\n",
    "\n"
   ]
  },
  {
   "cell_type": "code",
   "execution_count": null,
   "id": "891fc51e",
   "metadata": {
    "colab": {
     "base_uri": "https://localhost:8080/"
    },
    "executionInfo": {
     "elapsed": 4167,
     "status": "ok",
     "timestamp": 1652417780004,
     "user": {
      "displayName": "Sam",
      "userId": "12437677620512032560"
     },
     "user_tz": -60
    },
    "id": "891fc51e",
    "outputId": "d2da59ef-330d-45e5-91d4-d4d81a395aca"
   },
   "outputs": [
    {
     "name": "stdout",
     "output_type": "stream",
     "text": [
      "Requirement already satisfied: mlxtend in /usr/local/lib/python3.7/dist-packages (0.14.0)\n",
      "Requirement already satisfied: setuptools in /usr/local/lib/python3.7/dist-packages (from mlxtend) (57.4.0)\n",
      "Requirement already satisfied: pandas>=0.17.1 in /usr/local/lib/python3.7/dist-packages (from mlxtend) (1.3.5)\n",
      "Requirement already satisfied: scikit-learn>=0.18 in /usr/local/lib/python3.7/dist-packages (from mlxtend) (1.0.2)\n",
      "Requirement already satisfied: numpy>=1.10.4 in /usr/local/lib/python3.7/dist-packages (from mlxtend) (1.21.6)\n",
      "Requirement already satisfied: matplotlib>=1.5.1 in /usr/local/lib/python3.7/dist-packages (from mlxtend) (3.2.2)\n",
      "Requirement already satisfied: scipy>=0.17 in /usr/local/lib/python3.7/dist-packages (from mlxtend) (1.4.1)\n",
      "Requirement already satisfied: kiwisolver>=1.0.1 in /usr/local/lib/python3.7/dist-packages (from matplotlib>=1.5.1->mlxtend) (1.4.2)\n",
      "Requirement already satisfied: pyparsing!=2.0.4,!=2.1.2,!=2.1.6,>=2.0.1 in /usr/local/lib/python3.7/dist-packages (from matplotlib>=1.5.1->mlxtend) (3.0.8)\n",
      "Requirement already satisfied: python-dateutil>=2.1 in /usr/local/lib/python3.7/dist-packages (from matplotlib>=1.5.1->mlxtend) (2.8.2)\n",
      "Requirement already satisfied: cycler>=0.10 in /usr/local/lib/python3.7/dist-packages (from matplotlib>=1.5.1->mlxtend) (0.11.0)\n",
      "Requirement already satisfied: typing-extensions in /usr/local/lib/python3.7/dist-packages (from kiwisolver>=1.0.1->matplotlib>=1.5.1->mlxtend) (4.2.0)\n",
      "Requirement already satisfied: pytz>=2017.3 in /usr/local/lib/python3.7/dist-packages (from pandas>=0.17.1->mlxtend) (2022.1)\n",
      "Requirement already satisfied: six>=1.5 in /usr/local/lib/python3.7/dist-packages (from python-dateutil>=2.1->matplotlib>=1.5.1->mlxtend) (1.15.0)\n",
      "Requirement already satisfied: threadpoolctl>=2.0.0 in /usr/local/lib/python3.7/dist-packages (from scikit-learn>=0.18->mlxtend) (3.1.0)\n",
      "Requirement already satisfied: joblib>=0.11 in /usr/local/lib/python3.7/dist-packages (from scikit-learn>=0.18->mlxtend) (1.1.0)\n"
     ]
    }
   ],
   "source": [
    "pip install mlxtend"
   ]
  },
  {
   "cell_type": "code",
   "execution_count": 11,
   "id": "e8a4ca08",
   "metadata": {
    "colab": {
     "base_uri": "https://localhost:8080/",
     "height": 334
    },
    "executionInfo": {
     "elapsed": 856,
     "status": "ok",
     "timestamp": 1652654858637,
     "user": {
      "displayName": "Sam",
      "userId": "12437677620512032560"
     },
     "user_tz": -60
    },
    "id": "e8a4ca08",
    "outputId": "c37e5d4e-c1a8-491f-b934-31c615eceb54",
    "scrolled": true
   },
   "outputs": [
    {
     "data": {
      "image/png": "[encoded data removed]",
      "text/plain": [
       "<Figure size 360x360 with 1 Axes>"
      ]
     },
     "metadata": {
      "needs_background": "light"
     },
     "output_type": "display_data"
    }
   ],
   "source": [
    "\n",
    "CM = confusion_matrix(y_true, pred)\n",
    "from mlxtend.plotting import plot_confusion_matrix\n",
    "fig, ax = plot_confusion_matrix(conf_mat=CM ,  figsize=(5, 5))\n",
    "plt.show()"
   ]
  },
  {
   "cell_type": "code",
   "execution_count": 12,
   "id": "692774ea",
   "metadata": {
    "executionInfo": {
     "elapsed": 5,
     "status": "ok",
     "timestamp": 1652654864392,
     "user": {
      "displayName": "Sam",
      "userId": "12437677620512032560"
     },
     "user_tz": -60
    },
    "id": "692774ea"
   },
   "outputs": [],
   "source": [
    "from mlxtend.plotting import plot_confusion_matrix"
   ]
  },
  {
   "cell_type": "code",
   "execution_count": 13,
   "id": "a203fa3e",
   "metadata": {
    "colab": {
     "base_uri": "https://localhost:8080/",
     "height": 241
    },
    "executionInfo": {
     "elapsed": 713,
     "status": "ok",
     "timestamp": 1652654867030,
     "user": {
      "displayName": "Sam",
      "userId": "12437677620512032560"
     },
     "user_tz": -60
    },
    "id": "a203fa3e",
    "outputId": "89f43a52-3e2f-4666-e23e-a0897e557ce1"
   },
   "outputs": [
    {
     "data": {
      "image/png": "[encoded data removed]",
      "text/plain": [
       "<Figure size 720x216 with 2 Axes>"
      ]
     },
     "metadata": {
      "needs_background": "light"
     },
     "output_type": "display_data"
    }
   ],
   "source": [
    "fig, ax = plt.subplots(1, 2, figsize=(10, 3))\n",
    "ax = ax.ravel()\n",
    "\n",
    "for i, met in enumerate(['accuracy', 'loss']):\n",
    "    ax[i].plot(history.history[met])\n",
    "    ax[i].plot(history.history['val_' + met])\n",
    "    ax[i].set_title('Model {}'.format(met))\n",
    "    ax[i].set_xlabel('epochs')\n",
    "    ax[i].set_ylabel(met)\n",
    "    ax[i].legend(['train', 'val'])\n",
    "     \n",
    "\n",
    "\n",
    "\n"
   ]
  },
  {
   "cell_type": "code",
   "execution_count": 16,
   "id": "PTc6YSnb_OeU",
   "metadata": {
    "executionInfo": {
     "elapsed": 3023,
     "status": "ok",
     "timestamp": 1652654896220,
     "user": {
      "displayName": "Sam",
      "userId": "12437677620512032560"
     },
     "user_tz": -60
    },
    "id": "PTc6YSnb_OeU"
   },
   "outputs": [],
   "source": [
    "from sklearn.metrics import accuracy_score, confusion_matrix\n",
    "preds = vgg_model.predict(X_test)\n",
    "acc = accuracy_score(y_test, np.round(preds))*100\n",
    "#cm = confusion_matrix(y_test, np.round(preds))"
   ]
  },
  {
   "cell_type": "code",
   "execution_count": null,
   "id": "NaH5Gz60fFbJ",
   "metadata": {
    "colab": {
     "base_uri": "https://localhost:8080/"
    },
    "executionInfo": {
     "elapsed": 1,
     "status": "ok",
     "timestamp": 1652480040933,
     "user": {
      "displayName": "Sam",
      "userId": "12437677620512032560"
     },
     "user_tz": -60
    },
    "id": "NaH5Gz60fFbJ",
    "outputId": "d06851d3-b61d-4a5f-f7c3-72afd2da5441"
   },
   "outputs": [
    {
     "data": {
      "text/plain": [
       "79.61538461538461"
      ]
     },
     "execution_count": 71,
     "metadata": {},
     "output_type": "execute_result"
    }
   ],
   "source": [
    "acc"
   ]
  },
  {
   "cell_type": "code",
   "execution_count": 17,
   "id": "d353ac73",
   "metadata": {
    "executionInfo": {
     "elapsed": 2696,
     "status": "ok",
     "timestamp": 1652654930593,
     "user": {
      "displayName": "Sam",
      "userId": "12437677620512032560"
     },
     "user_tz": -60
    },
    "id": "d353ac73"
   },
   "outputs": [],
   "source": [
    "tn, fp, fn, tp = CM.ravel()\n",
    "preds = vgg_model.predict(X_test)\n",
    "acc = accuracy_score(y_test, np.round(preds)*100)\n",
    "#preds = vgg_model.predict(X_test)\n"
   ]
  },
  {
   "cell_type": "code",
   "execution_count": 18,
   "id": "3xZCP8PCke_T",
   "metadata": {
    "executionInfo": {
     "elapsed": 2643,
     "status": "ok",
     "timestamp": 1652654941343,
     "user": {
      "displayName": "Sam",
      "userId": "12437677620512032560"
     },
     "user_tz": -60
    },
    "id": "3xZCP8PCke_T"
   },
   "outputs": [],
   "source": [
    "tn, fp, fn, tp = CM.ravel()\n",
    "preds = vgg_model.predict(X_test)\n",
    "\n",
    "#preds = vgg_model.predict(X_test)"
   ]
  },
  {
   "cell_type": "code",
   "execution_count": 20,
   "id": "2OFIBmIOktTx",
   "metadata": {
    "executionInfo": {
     "elapsed": 225,
     "status": "ok",
     "timestamp": 1652654956230,
     "user": {
      "displayName": "Sam",
      "userId": "12437677620512032560"
     },
     "user_tz": -60
    },
    "id": "2OFIBmIOktTx"
   },
   "outputs": [],
   "source": [
    "acc = accuracy_score(y_val, np.round(preds))*100"
   ]
  },
  {
   "cell_type": "code",
   "execution_count": null,
   "id": "jwfdz_dFkqJe",
   "metadata": {
    "id": "jwfdz_dFkqJe"
   },
   "outputs": [],
   "source": [
    "X_val = X_val/255"
   ]
  },
  {
   "cell_type": "code",
   "execution_count": 21,
   "id": "xJTVrP1efhuT",
   "metadata": {
    "colab": {
     "base_uri": "https://localhost:8080/"
    },
    "executionInfo": {
     "elapsed": 208,
     "status": "ok",
     "timestamp": 1652654958507,
     "user": {
      "displayName": "Sam",
      "userId": "12437677620512032560"
     },
     "user_tz": -60
    },
    "id": "xJTVrP1efhuT",
    "outputId": "5d208882-eeeb-4e12-96e7-c8769eb9459e"
   },
   "outputs": [
    {
     "name": "stdout",
     "output_type": "stream",
     "text": [
      "CONFUSION MATRIX ------------------\n",
      "[[311  84]\n",
      " [ 38  67]]\n",
      "\n",
      "TEST METRICS ----------------------\n",
      "Accuracy: 57.199999999999996\n",
      "Precision: 44.370860927152314\n",
      "Recall: {}% 63.8095238095238\n",
      "F1-score: {} 52.34375\n",
      "\n",
      "TRAIN METRIC ----------------------\n",
      "Train acc: 75.63\n"
     ]
    }
   ],
   "source": [
    "from sklearn.metrics import accuracy_score\n",
    "print('CONFUSION MATRIX ------------------')\n",
    "print(CM)\n",
    "\n",
    "print('\\nTEST METRICS ----------------------')\n",
    "precision = tp/(tp+fp)*100\n",
    "recall = tp/(tp+fn)*100\n",
    "f1 = 2*precision*recall/(precision+recall)\n",
    "print('Accuracy:',acc)\n",
    "print('Precision:',precision)\n",
    "print('Recall: {}%',recall)\n",
    "print('F1-score: {}',f1)\n",
    "\n",
    "print('\\nTRAIN METRIC ----------------------')\n",
    "print('Train acc: {}'.format(np.round((history.history['accuracy'][-1])*100, 2)))"
   ]
  }
 ],
 "metadata": {
  "accelerator": "GPU",
  "colab": {
   "name": "Weighted_class_vgg_smote.ipynb",
   "provenance": [
    {
     "file_id": "1UK-5hNAya9KKQAQoBbHrEcZTIThnrU3q",
     "timestamp": 1652482055314
    }
   ]
  },
  "kernelspec": {
   "display_name": "Python 3 (ipykernel)",
   "language": "python",
   "name": "python3"
  },
  "language_info": {
   "codemirror_mode": {
    "name": "ipython",
    "version": 3
   },
   "file_extension": ".py",
   "mimetype": "text/x-python",
   "name": "python",
   "nbconvert_exporter": "python",
   "pygments_lexer": "ipython3",
   "version": "3.9.7"
  }
 },
 "nbformat": 4,
 "nbformat_minor": 5
}
