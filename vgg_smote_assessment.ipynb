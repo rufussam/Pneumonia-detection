{
 "cells": [
  {
   "cell_type": "code",
   "execution_count": 5,
   "id": "ec13e0dd",
   "metadata": {
    "id": "ec13e0dd"
   },
   "outputs": [],
   "source": [
    "## Input data files are available in the \"../input/\" directory.\n",
    "# For example, running this (by clicking run or pressing Shift+Enter) will list the files in the input directory\n",
    "\n",
    "from keras import applications\n",
    "from keras.preprocessing.image import ImageDataGenerator\n",
    "from keras import optimizers\n",
    "from keras.models import Sequential, Model, load_model\n",
    "from keras.layers import Dense, GlobalAveragePooling2D\n",
    "from keras.layers import Activation, Dropout, Flatten, Dense\n",
    "from keras import backend as K\n",
    "import tensorflow as tf\n",
    "from keras.utils.data_utils import Sequence\n",
    "import sys\n",
    "from PIL import *\n",
    "import numpy as np\n",
    "from glob import glob\n",
    "import matplotlib.pyplot as plt\n",
    "import os\n",
    "import numpy as np\n",
    "#import cv2   \n",
    "import os\n",
    "import random\n",
    "import matplotlib.pyplot as plt\n",
    "import pickle\n",
    "from tqdm import tqdm"
   ]
  },
  {
   "cell_type": "code",
   "execution_count": 3,
   "id": "c59b5def",
   "metadata": {
    "id": "c59b5def"
   },
   "outputs": [],
   "source": [
    "img_width, img_height = 224, 224\n",
    "IMG_SIZE = 224"
   ]
  },
  {
   "cell_type": "code",
   "execution_count": 4,
   "id": "69db5770",
   "metadata": {
    "id": "69db5770"
   },
   "outputs": [],
   "source": [
    "CATEGORIES =['no_pneumonia','pneumonia']\n",
    "train_data = r'C:\\Users\\Computing\\Downloads\\data-task1-20220514T173113Z-001\\data-task1\\data-task1\\train'\n",
    "test_data = r'C:\\Users\\Computing\\Downloads\\data-task1-20220514T173113Z-001\\data-task1\\data-task1\\test'\n",
    "val_data = r'C:\\Users\\Computing\\Downloads\\data-task1-20220514T173113Z-001\\data-task1\\data-task1\\val'\n",
    "\n",
    "def pre_pro(DIRECTORY):\n",
    "\n",
    "  data = []\n",
    "  #pre-processing\n",
    "  for category in CATEGORIES:\n",
    "        folder = os.path.join(DIRECTORY, category)\n",
    "        label = CATEGORIES.index(category)\n",
    "        for img in tqdm(os.listdir(folder)):\n",
    "            try:\n",
    "                img_path = os.path.join(folder, img)\n",
    "                #print(img_path)\n",
    "                #img_arr = cv2.imread(img_path)\n",
    "                #img_arr = cv2.imread(img_path, cv2.IMREAD_GRAYSCALE)\n",
    "                img_arr = cv2.imread(img_path)\n",
    "                img_arr = cv2.resize(img_arr, (IMG_SIZE, IMG_SIZE))\n",
    "                data.append([img_arr, label])\n",
    "            except Exception as e:\n",
    "                 pass\n",
    "  len(data)\n",
    "\n",
    "  random.shuffle(data)\n",
    "\n",
    "  X = []\n",
    "  Y = []\n",
    "    \n",
    "  for features, labels in data:\n",
    "   X.append(features)\n",
    "   Y.append(labels)\n",
    "    \n",
    "\n",
    "  #X = np.array(X).reshape(-1, IMG_SIZE, IMG_SIZE, 1)\n",
    "  X = np.array(X)\n",
    "  y = np.array(Y)\n",
    "  return X, y"
   ]
  },
  {
   "cell_type": "code",
   "execution_count": 8,
   "id": "88db0bca",
   "metadata": {
    "id": "88db0bca"
   },
   "outputs": [
    {
     "name": "stderr",
     "output_type": "stream",
     "text": [
      "100%|██████████████████████████████████████████████████████████████████████████████| 1897/1897 [00:24<00:00, 78.55it/s]\n",
      "100%|████████████████████████████████████████████████████████████████████████████████| 437/437 [00:05<00:00, 80.21it/s]\n",
      "100%|████████████████████████████████████████████████████████████████████████████████| 395/395 [00:05<00:00, 67.56it/s]\n",
      "100%|████████████████████████████████████████████████████████████████████████████████| 105/105 [00:01<00:00, 68.80it/s]\n",
      "100%|████████████████████████████████████████████████████████████████████████████████| 390/390 [00:05<00:00, 69.19it/s]\n",
      "100%|████████████████████████████████████████████████████████████████████████████████| 110/110 [00:01<00:00, 69.39it/s]\n"
     ]
    }
   ],
   "source": [
    "X_train,y_train = pre_pro(r'C:\\Users\\Computing\\Downloads\\data-task1-20220514T173113Z-001\\data-task1\\data-task1\\train')\n",
    "X_test,y_test = pre_pro(r'C:\\Users\\Computing\\Downloads\\data-task1-20220514T173113Z-001\\data-task1\\data-task1\\test')\n",
    "X_val,y_val= pre_pro(r'C:\\Users\\Computing\\Downloads\\data-task1-20220514T173113Z-001\\data-task1\\data-task1\\val')"
   ]
  },
  {
   "cell_type": "code",
   "execution_count": 9,
   "id": "0f24f763",
   "metadata": {
    "id": "0f24f763"
   },
   "outputs": [],
   "source": [
    "pickle.dump(X_train, open(r'C:\\Users\\Computing\\Downloads\\data-task1-20220514T173113Z-001\\data-task1\\data-task1\\X_train.pkl', 'wb'))\n",
    "pickle.dump(y_train, open(r'C:\\Users\\Computing\\Downloads\\data-task1-20220514T173113Z-001\\data-task1\\data-task1\\y_train.pkl', 'wb'))\n",
    "pickle.dump(X_test, open(r'C:\\Users\\Computing\\Downloads\\data-task1-20220514T173113Z-001\\data-task1\\data-task1\\X_test.pkl', 'wb'))\n",
    "pickle.dump(y_test, open(r'C:\\Users\\Computing\\Downloads\\data-task1-20220514T173113Z-001\\data-task1\\data-task1\\Y_test.pkl', 'wb'))\n",
    "pickle.dump(X_val, open(r'C:\\Users\\Computing\\Downloads\\data-task1-20220514T173113Z-001\\data-task1\\data-task1\\X_val.pkl', 'wb'))\n",
    "pickle.dump(y_val, open(r'C:\\Users\\Computing\\Downloads\\data-task1-20220514T173113Z-001\\data-task1\\data-task1\\y_val.pkl', 'wb'))"
   ]
  },
  {
   "cell_type": "code",
   "execution_count": 6,
   "id": "71f30e48",
   "metadata": {
    "id": "71f30e48"
   },
   "outputs": [],
   "source": [
    "import pickle\n",
    "from keras.models import Sequential\n",
    "from keras.layers import Conv2D, MaxPooling2D, Flatten, Dense\n",
    "from tensorflow.keras.callbacks import TensorBoard\n",
    "\n",
    "X_train = pickle.load(open(r'C:\\Users\\Computing\\Downloads\\data-task1-20220514T230241Z-001\\data-task1\\data-task1\\X_train.pkl','rb'))\n",
    "y_train = pickle.load(open(r'C:\\Users\\Computing\\Downloads\\data-task1-20220514T230241Z-001\\data-task1\\data-task1\\y_train.pkl','rb'))\n",
    "X_test = pickle.load(open(r'C:\\Users\\Computing\\Downloads\\data-task1-20220514T230241Z-001\\data-task1\\data-task1\\X_test.pkl','rb'))\n",
    "y_test = pickle.load(open(r'C:\\Users\\Computing\\Downloads\\data-task1-20220514T230241Z-001\\data-task1\\data-task1\\Y_test.pkl','rb'))\n",
    "X_val = pickle.load(open(r'C:\\Users\\Computing\\Downloads\\data-task1-20220514T230241Z-001\\data-task1\\data-task1\\X_val.pkl','rb'))\n",
    "y_val = pickle.load(open(r'C:\\Users\\Computing\\Downloads\\data-task1-20220514T230241Z-001\\data-task1\\data-task1\\y_val.pkl','rb'))"
   ]
  },
  {
   "cell_type": "code",
   "execution_count": 11,
   "id": "c6a4bca8",
   "metadata": {},
   "outputs": [
    {
     "name": "stdout",
     "output_type": "stream",
     "text": [
      "Collecting imblearn\n",
      "  Downloading imblearn-0.0-py2.py3-none-any.whl (1.9 kB)\n",
      "Collecting imbalanced-learn\n",
      "  Downloading imbalanced_learn-0.9.0-py3-none-any.whl (199 kB)\n",
      "Requirement already satisfied: numpy>=1.14.6 in c:\\programdata\\anaconda3\\lib\\site-packages (from imbalanced-learn->imblearn) (1.20.1)\n",
      "Requirement already satisfied: joblib>=0.11 in c:\\programdata\\anaconda3\\lib\\site-packages (from imbalanced-learn->imblearn) (1.0.1)\n",
      "Requirement already satisfied: scipy>=1.1.0 in c:\\programdata\\anaconda3\\lib\\site-packages (from imbalanced-learn->imblearn) (1.6.2)\n",
      "Collecting scikit-learn>=1.0.1\n",
      "  Downloading scikit_learn-1.1.0-cp38-cp38-win_amd64.whl (7.3 MB)\n",
      "Requirement already satisfied: threadpoolctl>=2.0.0 in c:\\programdata\\anaconda3\\lib\\site-packages (from imbalanced-learn->imblearn) (2.1.0)\n",
      "Installing collected packages: scikit-learn, imbalanced-learn, imblearn\n",
      "  Attempting uninstall: scikit-learn\n",
      "    Found existing installation: scikit-learn 0.24.1\n",
      "    Uninstalling scikit-learn-0.24.1:\n",
      "      Successfully uninstalled scikit-learn-0.24.1\n",
      "Successfully installed imbalanced-learn-0.9.0 imblearn-0.0 scikit-learn-1.1.0\n"
     ]
    }
   ],
   "source": [
    "!pip3 install imblearn"
   ]
  },
  {
   "cell_type": "code",
   "execution_count": 7,
   "id": "VoQzaqNsyr3b",
   "metadata": {
    "colab": {
     "base_uri": "https://localhost:8080/"
    },
    "executionInfo": {
     "elapsed": 202,
     "status": "ok",
     "timestamp": 1652485934899,
     "user": {
      "displayName": "Sam",
      "userId": "12437677620512032560"
     },
     "user_tz": -60
    },
    "id": "VoQzaqNsyr3b",
    "outputId": "e3e126d8-f537-4fd3-afdc-55b278c7fb62"
   },
   "outputs": [
    {
     "data": {
      "text/plain": [
       "(500,)"
      ]
     },
     "execution_count": 7,
     "metadata": {},
     "output_type": "execute_result"
    }
   ],
   "source": [
    "y_val.shape"
   ]
  },
  {
   "cell_type": "code",
   "execution_count": 8,
   "id": "koX8ZRqVoisx",
   "metadata": {
    "colab": {
     "base_uri": "https://localhost:8080/"
    },
    "executionInfo": {
     "elapsed": 227,
     "status": "ok",
     "timestamp": 1652485935902,
     "user": {
      "displayName": "Sam",
      "userId": "12437677620512032560"
     },
     "user_tz": -60
    },
    "id": "koX8ZRqVoisx",
    "outputId": "36721b67-d409-4a70-cbd4-2cd7b74f48a9"
   },
   "outputs": [
    {
     "data": {
      "text/plain": [
       "(500, 150, 150, 3)"
      ]
     },
     "execution_count": 8,
     "metadata": {},
     "output_type": "execute_result"
    }
   ],
   "source": [
    "X_val.shape"
   ]
  },
  {
   "cell_type": "code",
   "execution_count": 13,
   "id": "8ymCdzK5om5B",
   "metadata": {
    "id": "8ymCdzK5om5B",
    "scrolled": true
   },
   "outputs": [],
   "source": [
    "X_trainShape = X_train.shape[1]*X_train.shape[2]*X_train.shape[3]\n",
    "X_trainFlat = X_train.reshape(X_train.shape[0], X_trainShape)\n",
    "Y_train = y_train\n",
    "#from imblearn.under_sampling import RandomUnderSampler\n",
    "from tensorflow.keras.utils import to_categorical\n",
    "from imblearn.over_sampling import SMOTE \n",
    "ros = SMOTE(sampling_strategy='minority')\n",
    "X_trainRos, Y_trainRos = ros.fit_resample(X_trainFlat, Y_train)\n",
    "Y_trainRosHot = to_categorical(Y_trainRos, num_classes = 2)\n",
    "#X_valRos, Y_valRos = ros.fit_resample(X_valFlat, Y_val)\n",
    "for i in range(len(X_trainRos)):\n",
    "    height, width, channels = 150,150,3\n",
    "    X_trainRosReshaped = X_trainRos.reshape(len(X_trainRos),height,width,channels)\n",
    "Y_trainRosHot = to_categorical(Y_trainRos, num_classes = 2)\n",
    "\n",
    "X_train = X_trainRosReshaped\n",
    "y_train = Y_trainRosHot"
   ]
  },
  {
   "cell_type": "code",
   "execution_count": 14,
   "id": "5fcc0f37",
   "metadata": {},
   "outputs": [
    {
     "data": {
      "text/plain": [
       "(4716, 150, 150, 3)"
      ]
     },
     "execution_count": 14,
     "metadata": {},
     "output_type": "execute_result"
    }
   ],
   "source": [
    "X_train.shape"
   ]
  },
  {
   "cell_type": "code",
   "execution_count": 15,
   "id": "QkwH7nc70c0o",
   "metadata": {
    "colab": {
     "base_uri": "https://localhost:8080/"
    },
    "executionInfo": {
     "elapsed": 209,
     "status": "ok",
     "timestamp": 1652487297736,
     "user": {
      "displayName": "Sam",
      "userId": "12437677620512032560"
     },
     "user_tz": -60
    },
    "id": "QkwH7nc70c0o",
    "outputId": "ba676bcf-f214-4084-a523-06fa1c866ecd"
   },
   "outputs": [
    {
     "data": {
      "text/plain": [
       "(4716, 2)"
      ]
     },
     "execution_count": 15,
     "metadata": {},
     "output_type": "execute_result"
    }
   ],
   "source": [
    "y_train.shape"
   ]
  },
  {
   "cell_type": "code",
   "execution_count": 17,
   "id": "YcyX7c3Yzj_L",
   "metadata": {
    "id": "YcyX7c3Yzj_L"
   },
   "outputs": [],
   "source": [
    "X_valShape = X_val.shape[1]*X_val.shape[2]*X_val.shape[3]\n",
    "X_valFlat = X_val.reshape(X_val.shape[0], X_valShape)\n",
    "Y_val = y_val\n",
    "from imblearn.over_sampling import SMOTE \n",
    "ros = SMOTE(sampling_strategy='minority')\n",
    "X_valRos, Y_valRos = ros.fit_resample(X_valFlat, Y_val)\n",
    "Y_valRosHot = to_categorical(Y_valRos, num_classes = 2)\n",
    "#X_valRos, Y_valRos = ros.fit_resample(X_valFlat, Y_val)\n",
    "for i in range(len(X_valRos)):\n",
    "    height, width, channels = 150,150,3\n",
    "    X_valRosReshaped = X_valRos.reshape(len(X_valRos),height,width,channels)\n",
    "Y_valRosHot = to_categorical(Y_valRos, num_classes = 2)\n",
    "X_val = X_valRosReshaped\n",
    "y_val = Y_valRosHot"
   ]
  },
  {
   "cell_type": "code",
   "execution_count": 18,
   "id": "qqg6X6Rcx4G3",
   "metadata": {
    "colab": {
     "base_uri": "https://localhost:8080/"
    },
    "executionInfo": {
     "elapsed": 306,
     "status": "ok",
     "timestamp": 1652487245294,
     "user": {
      "displayName": "Sam",
      "userId": "12437677620512032560"
     },
     "user_tz": -60
    },
    "id": "qqg6X6Rcx4G3",
    "outputId": "39aedc2a-d67a-47cb-e8f3-c922af3d2ad0"
   },
   "outputs": [
    {
     "data": {
      "text/plain": [
       "(780, 150, 150, 3)"
      ]
     },
     "execution_count": 18,
     "metadata": {},
     "output_type": "execute_result"
    }
   ],
   "source": [
    "X_val.shape"
   ]
  },
  {
   "cell_type": "code",
   "execution_count": 19,
   "id": "92e36182",
   "metadata": {
    "id": "92e36182"
   },
   "outputs": [],
   "source": [
    "X_train = X_train/ 255;\n",
    "X_test = X_test/ 255;\n",
    "X_val = X_val/ 255;\n",
    "\n",
    "\n",
    "\n",
    "from keras.preprocessing.image import ImageDataGenerator\n",
    "train_datagen = ImageDataGenerator(\n",
    "    rescale = 1/244,\n",
    "    shear_range=0.2,\n",
    "    zoom_range=0.2,\n",
    "    horizontal_flip=True)\n",
    "\n",
    "test_datagen = ImageDataGenerator(rotation_range=10,\n",
    "        rescale = 1/244,\n",
    "        width_shift_range=0.2, # horizontal shift\n",
    "        height_shift_range=0.2, # vertical shift\n",
    "        zoom_range=0.2, # zoom\n",
    "        horizontal_flip=True, # horizontal flip\n",
    "        brightness_range=[0.2,1.2])\n",
    "\n",
    "val_datagen = ImageDataGenerator(rescale = 1/244,rotation_range=10, # rotation\n",
    "        width_shift_range=0.2, # horizontal shift\n",
    "        height_shift_range=0.2, # vertical shift\n",
    "        zoom_range=0.2, # zoom\n",
    "        horizontal_flip=True, # horizontal flip\n",
    "        brightness_range=[0.2,1.2])\n",
    "\n",
    "\n",
    "\n"
   ]
  },
  {
   "cell_type": "code",
   "execution_count": 20,
   "id": "vwwAB4NrXA7y",
   "metadata": {
    "id": "vwwAB4NrXA7y"
   },
   "outputs": [],
   "source": [
    "train_datagen.fit(X_train)\n",
    "test_datagen.fit(X_test)\n",
    "val_datagen.fit(X_val)"
   ]
  },
  {
   "cell_type": "code",
   "execution_count": 21,
   "id": "6102d255",
   "metadata": {
    "id": "6102d255"
   },
   "outputs": [],
   "source": [
    "import tensorflow\n",
    "from tensorflow.keras.utils import to_categorical\n",
    "#y_train = to_categorical(y_train, 2)\n",
    "y_test = to_categorical(y_test, 2)\n",
    "#y_val = to_categorical(y_val, 2)"
   ]
  },
  {
   "cell_type": "code",
   "execution_count": 23,
   "id": "7ed2ac5d",
   "metadata": {
    "colab": {
     "base_uri": "https://localhost:8080/"
    },
    "id": "7ed2ac5d",
    "outputId": "a0e02c08-0cf9-4265-e322-e4a72b115d1f"
   },
   "outputs": [
    {
     "name": "stdout",
     "output_type": "stream",
     "text": [
      "Epoch 1/5\n",
      "148/148 [==============================] - 120s 809ms/step - loss: 0.9495 - accuracy: 0.5712 - val_loss: 0.5697 - val_accuracy: 0.8026\n",
      "Epoch 2/5\n",
      "148/148 [==============================] - 122s 822ms/step - loss: 0.7021 - accuracy: 0.6522 - val_loss: 0.4654 - val_accuracy: 0.8000\n",
      "Epoch 3/5\n",
      "148/148 [==============================] - 129s 875ms/step - loss: 0.6094 - accuracy: 0.7034 - val_loss: 0.4053 - val_accuracy: 0.8115\n",
      "Epoch 4/5\n",
      "148/148 [==============================] - 131s 889ms/step - loss: 0.5439 - accuracy: 0.7345 - val_loss: 0.3806 - val_accuracy: 0.8154\n",
      "Epoch 5/5\n",
      "148/148 [==============================] - 124s 842ms/step - loss: 0.5056 - accuracy: 0.7513 - val_loss: 0.3672 - val_accuracy: 0.8231\n"
     ]
    }
   ],
   "source": [
    "from keras.layers.pooling import GlobalMaxPooling2D\n",
    "import keras\n",
    "from keras.applications.vgg16 import VGG16\n",
    "model = VGG16(input_shape =(150,150,3) ,weights='imagenet', include_top=False)\n",
    "\n",
    "for layer in model.layers:\n",
    "    layer.trainable = False\n",
    "\n",
    "result = model.output\n",
    "\n",
    "from keras.layers import BatchNormalization\n",
    "result = BatchNormalization()(result)\n",
    "result = Flatten()(result)\n",
    "# add a fully-connected layer\n",
    "\n",
    "result = Dense(512, activation='relu')(result)\n",
    "result = Dropout(0.5)(result)\n",
    "\n",
    "result = Dense(256, activation='relu')(result)\n",
    "result = Dropout(0.5)(result)\n",
    "\n",
    "\n",
    "result = Dense(128, activation='relu')(result)\n",
    "result = Dropout(0.5)(result)\n",
    "\n",
    "result = Dense(64, activation='relu')(result)\n",
    "result = Dropout(0.5)(result)\n",
    "\n",
    "\n",
    "#result = Dropout(0.5)(result)\n",
    "\n",
    "# and a fully connected output/classification layer\n",
    "\n",
    "predictions = Dense(2, activation='sigmoid')(result)\n",
    "vgg_model = Model(inputs=model.input, outputs=predictions)\n",
    "\n",
    "from tensorflow.keras.optimizers import SGD\n",
    "import tensorflow as tf\n",
    "sgd = tf.optimizers.SGD(lr=1e-4, momentum=0.9)\n",
    "vgg_model.compile(loss='categorical_crossentropy',optimizer= tf.keras.optimizers.RMSprop(lr=2e-5) ,metrics=['accuracy'])\n",
    "import tensorflow as tf\n",
    "#history = vgg_model.fit(X_trainRosReshaped,Y_trainRosHot, validation_data=(X_testRosReshaped, Y_testRosHot), epochs=10, batch_size=32, verbose=1, class_weight=class_weight)\n",
    "history = vgg_model.fit(X_train,y_train, validation_data=(X_val, y_val), epochs=5, batch_size=32, verbose=1)\n",
    "#history = vgg_model.fit(train_generator, validation_generator, epochs=5, batch_size=32, verbose=1)\n",
    "#history = vgg_model.fit_generator(train_generator, validation_data=validation_generator, epochs=5)"
   ]
  },
  {
   "cell_type": "code",
   "execution_count": null,
   "id": "Aqb9tuOVdWby",
   "metadata": {
    "colab": {
     "base_uri": "https://localhost:8080/"
    },
    "executionInfo": {
     "elapsed": 1025,
     "status": "ok",
     "timestamp": 1652475994830,
     "user": {
      "displayName": "Sam",
      "userId": "12437677620512032560"
     },
     "user_tz": -60
    },
    "id": "Aqb9tuOVdWby",
    "outputId": "07868127-d50e-44c1-fda3-178bece5e073"
   },
   "outputs": [
    {
     "name": "stdout",
     "output_type": "stream",
     "text": [
      "WARNING:tensorflow:Compiled the loaded model, but the compiled metrics have yet to be built. `model.compile_metrics` will be empty until you train or evaluate the model.\n"
     ]
    }
   ],
   "source": [
    "model.save(r'/content/drive/MyDrive/data-task1/data-task1/vgg_smote_good_batch.h5')"
   ]
  },
  {
   "cell_type": "code",
   "execution_count": null,
   "id": "JG18mLHCkyKS",
   "metadata": {
    "colab": {
     "base_uri": "https://localhost:8080/"
    },
    "executionInfo": {
     "elapsed": 7083,
     "status": "ok",
     "timestamp": 1652478211827,
     "user": {
      "displayName": "Sam",
      "userId": "12437677620512032560"
     },
     "user_tz": -60
    },
    "id": "JG18mLHCkyKS",
    "outputId": "f9072f8a-a588-4f59-d5ea-3f47d936ab38"
   },
   "outputs": [
    {
     "name": "stdout",
     "output_type": "stream",
     "text": [
      "WARNING:tensorflow:No training configuration found in the save file, so the model was *not* compiled. Compile it manually.\n"
     ]
    }
   ],
   "source": [
    "from tensorflow import keras\n",
    "vgg_model = keras.models.load_model(r'/content/drive/MyDrive/data-task1/data-task1/vgg_smote_good_batch.h5')"
   ]
  },
  {
   "cell_type": "code",
   "execution_count": 24,
   "id": "AUsJq4XAvIpp",
   "metadata": {
    "colab": {
     "base_uri": "https://localhost:8080/",
     "height": 1000
    },
    "executionInfo": {
     "elapsed": 2045,
     "status": "ok",
     "timestamp": 1652478770335,
     "user": {
      "displayName": "Sam",
      "userId": "12437677620512032560"
     },
     "user_tz": -60
    },
    "id": "AUsJq4XAvIpp",
    "outputId": "4cd16437-1d27-4be0-a5de-11d2ef8b2c9c"
   },
   "outputs": [
    {
     "data": {
      "image/png": "[encoded data removed]",
      "text/plain": [
       "<Figure size 1152x648 with 1 Axes>"
      ]
     },
     "metadata": {
      "needs_background": "light"
     },
     "output_type": "display_data"
    },
    {
     "data": {
      "image/png": "[encoded data removed]",
      "text/plain": [
       "<Figure size 1152x648 with 1 Axes>"
      ]
     },
     "metadata": {
      "needs_background": "light"
     },
     "output_type": "display_data"
    },
    {
     "data": {
      "image/png": "[encoded data removed]",
      "text/plain": [
       "<Figure size 1152x648 with 1 Axes>"
      ]
     },
     "metadata": {
      "needs_background": "light"
     },
     "output_type": "display_data"
    },
    {
     "data": {
      "image/png": "[encoded data removed]",
      "text/plain": [
       "<Figure size 1152x648 with 1 Axes>"
      ]
     },
     "metadata": {
      "needs_background": "light"
     },
     "output_type": "display_data"
    }
   ],
   "source": [
    "plt.figure(figsize=(16, 9))\n",
    "plt.plot(history.epoch, history.history['accuracy'])\n",
    "plt.title('Model Accuracy')\n",
    "plt.legend(['train'], loc='upper left')\n",
    "plt.show()\n",
    "\n",
    "plt.figure(figsize=(16, 9))\n",
    "plt.plot(history.epoch, history.history['loss'])\n",
    "plt.title('Model Loss')\n",
    "plt.legend(['train'], loc='upper left')\n",
    "plt.show()\n",
    "\n",
    "plt.figure(figsize=(16, 9))\n",
    "plt.plot(history.epoch, history.history['val_accuracy'])\n",
    "plt.title('Model Validation Accuracy')\n",
    "plt.legend(['train'], loc='upper left')\n",
    "plt.show()\n",
    "\n",
    "plt.figure(figsize=(16, 9))\n",
    "plt.plot(history.epoch, history.history['val_loss'])\n",
    "plt.title('Model Validation Loss')\n",
    "plt.legend(['train'], loc='upper left')\n",
    "plt.show()"
   ]
  },
  {
   "cell_type": "code",
   "execution_count": 47,
   "id": "648f844e",
   "metadata": {},
   "outputs": [],
   "source": [
    "X_testShape = X_test.shape[1]*X_test.shape[2]*X_test.shape[3]\n",
    "X_testFlat = X_test.reshape(X_test.shape[0], X_testShape)\n",
    "Y_test = y_test\n",
    "from imblearn.over_sampling import SMOTE \n",
    "ros = SMOTE(sampling_strategy='minority')\n",
    "X_testRos, Y_testRos = ros.fit_resample(X_testFlat, Y_test)\n",
    "Y_testRosHot = to_categorical(Y_testRos, num_classes = 2)\n",
    "#X_valRos, Y_valRos = ros.fit_resample(X_valFlat, Y_val)\n",
    "for i in range(len(X_testRos)):\n",
    "    height, width, channels = 150,150,3\n",
    "    X_testRosReshaped = X_testRos.reshape(len(X_testRos),height,width,channels)\n",
    "Y_testRosHot = to_categorical(Y_testRos, num_classes = 2)\n",
    "X_test = X_testRosReshaped\n",
    "y_test = Y_testRosHot"
   ]
  },
  {
   "cell_type": "code",
   "execution_count": 48,
   "id": "938c97ae",
   "metadata": {},
   "outputs": [
    {
     "data": {
      "text/plain": [
       "(790, 150, 150, 3)"
      ]
     },
     "execution_count": 48,
     "metadata": {},
     "output_type": "execute_result"
    }
   ],
   "source": [
    "X_test.shape"
   ]
  },
  {
   "cell_type": "code",
   "execution_count": 50,
   "id": "76ed5d7f",
   "metadata": {},
   "outputs": [
    {
     "data": {
      "text/plain": [
       "(790, 2)"
      ]
     },
     "execution_count": 50,
     "metadata": {},
     "output_type": "execute_result"
    }
   ],
   "source": [
    "y_test.shape"
   ]
  },
  {
   "cell_type": "code",
   "execution_count": 28,
   "id": "4a19ef76",
   "metadata": {
    "id": "4a19ef76",
    "scrolled": true
   },
   "outputs": [],
   "source": [
    "from sklearn.metrics import confusion_matrix\n",
    "pred = vgg_model.predict(X_test)\n",
    "pred = np.argmax(pred,axis = 1)\n",
    "y_true = np.argmax(y_test,axis = 1)"
   ]
  },
  {
   "cell_type": "code",
   "execution_count": 30,
   "id": "891fc51e",
   "metadata": {
    "colab": {
     "base_uri": "https://localhost:8080/"
    },
    "executionInfo": {
     "elapsed": 4167,
     "status": "ok",
     "timestamp": 1652417780004,
     "user": {
      "displayName": "Sam",
      "userId": "12437677620512032560"
     },
     "user_tz": -60
    },
    "id": "891fc51e",
    "outputId": "d2da59ef-330d-45e5-91d4-d4d81a395aca",
    "scrolled": true
   },
   "outputs": [
    {
     "name": "stdout",
     "output_type": "stream",
     "text": [
      "Collecting mlxtend\n",
      "  Downloading mlxtend-0.19.0-py2.py3-none-any.whl (1.3 MB)\n",
      "Requirement already satisfied: scipy>=1.2.1 in c:\\programdata\\anaconda3\\lib\\site-packages (from mlxtend) (1.6.2)\n",
      "Requirement already satisfied: numpy>=1.16.2 in c:\\programdata\\anaconda3\\lib\\site-packages (from mlxtend) (1.20.1)\n",
      "Requirement already satisfied: matplotlib>=3.0.0 in c:\\programdata\\anaconda3\\lib\\site-packages (from mlxtend) (3.3.4)\n",
      "Requirement already satisfied: setuptools in c:\\programdata\\anaconda3\\lib\\site-packages (from mlxtend) (52.0.0.post20210125)\n",
      "Requirement already satisfied: joblib>=0.13.2 in c:\\programdata\\anaconda3\\lib\\site-packages (from mlxtend) (1.0.1)\n",
      "Requirement already satisfied: scikit-learn>=0.20.3 in c:\\programdata\\anaconda3\\lib\\site-packages (from mlxtend) (1.1.0)\n",
      "Requirement already satisfied: pandas>=0.24.2 in c:\\programdata\\anaconda3\\lib\\site-packages (from mlxtend) (1.2.4)\n",
      "Requirement already satisfied: pillow>=6.2.0 in c:\\programdata\\anaconda3\\lib\\site-packages (from matplotlib>=3.0.0->mlxtend) (8.2.0)\n",
      "Requirement already satisfied: python-dateutil>=2.1 in c:\\programdata\\anaconda3\\lib\\site-packages (from matplotlib>=3.0.0->mlxtend) (2.8.1)\n",
      "Requirement already satisfied: kiwisolver>=1.0.1 in c:\\programdata\\anaconda3\\lib\\site-packages (from matplotlib>=3.0.0->mlxtend) (1.3.1)\n",
      "Requirement already satisfied: cycler>=0.10 in c:\\programdata\\anaconda3\\lib\\site-packages (from matplotlib>=3.0.0->mlxtend) (0.10.0)\n",
      "Requirement already satisfied: pyparsing!=2.0.4,!=2.1.2,!=2.1.6,>=2.0.3 in c:\\programdata\\anaconda3\\lib\\site-packages (from matplotlib>=3.0.0->mlxtend) (2.4.7)\n",
      "Requirement already satisfied: six in c:\\programdata\\anaconda3\\lib\\site-packages (from cycler>=0.10->matplotlib>=3.0.0->mlxtend) (1.15.0)\n",
      "Requirement already satisfied: pytz>=2017.3 in c:\\programdata\\anaconda3\\lib\\site-packages (from pandas>=0.24.2->mlxtend) (2021.1)\n",
      "Requirement already satisfied: threadpoolctl>=2.0.0 in c:\\programdata\\anaconda3\\lib\\site-packages (from scikit-learn>=0.20.3->mlxtend) (2.1.0)\n",
      "Installing collected packages: mlxtend\n",
      "Successfully installed mlxtend-0.19.0\n",
      "Note: you may need to restart the kernel to use updated packages.\n"
     ]
    }
   ],
   "source": [
    "pip install mlxtend"
   ]
  },
  {
   "cell_type": "code",
   "execution_count": 31,
   "id": "e8a4ca08",
   "metadata": {
    "colab": {
     "base_uri": "https://localhost:8080/",
     "height": 334
    },
    "executionInfo": {
     "elapsed": 383,
     "status": "ok",
     "timestamp": 1652479826361,
     "user": {
      "displayName": "Sam",
      "userId": "12437677620512032560"
     },
     "user_tz": -60
    },
    "id": "e8a4ca08",
    "outputId": "02d5f186-09b9-4d51-ccf4-93c751ce77c7",
    "scrolled": true
   },
   "outputs": [
    {
     "data": {
      "image/png": "[encoded data removed]",
      "text/plain": [
       "<Figure size 360x360 with 1 Axes>"
      ]
     },
     "metadata": {
      "needs_background": "light"
     },
     "output_type": "display_data"
    }
   ],
   "source": [
    "\n",
    "CM = confusion_matrix(y_true, pred)\n",
    "from mlxtend.plotting import plot_confusion_matrix\n",
    "fig, ax = plot_confusion_matrix(conf_mat=CM ,  figsize=(5, 5))\n",
    "plt.show()"
   ]
  },
  {
   "cell_type": "code",
   "execution_count": 133,
   "id": "692774ea",
   "metadata": {
    "id": "692774ea"
   },
   "outputs": [],
   "source": [
    "from mlxtend.plotting import plot_confusion_matrix"
   ]
  },
  {
   "cell_type": "code",
   "execution_count": 134,
   "id": "a203fa3e",
   "metadata": {
    "colab": {
     "base_uri": "https://localhost:8080/",
     "height": 241
    },
    "executionInfo": {
     "elapsed": 1494,
     "status": "ok",
     "timestamp": 1652479855623,
     "user": {
      "displayName": "Sam",
      "userId": "12437677620512032560"
     },
     "user_tz": -60
    },
    "id": "a203fa3e",
    "outputId": "1fa37a30-227c-408f-baae-a9f5e1eb46bc"
   },
   "outputs": [
    {
     "data": {
      "image/png": "[encoded data removed]",
      "text/plain": [
       "<Figure size 720x216 with 2 Axes>"
      ]
     },
     "metadata": {
      "needs_background": "light"
     },
     "output_type": "display_data"
    }
   ],
   "source": [
    "fig, ax = plt.subplots(1, 2, figsize=(10, 3))\n",
    "ax = ax.ravel()\n",
    "\n",
    "for i, met in enumerate(['accuracy', 'loss']):\n",
    "    ax[i].plot(history.history[met])\n",
    "    ax[i].plot(history.history['val_' + met])\n",
    "    ax[i].set_title('Model {}'.format(met))\n",
    "    ax[i].set_xlabel('epochs')\n",
    "    ax[i].set_ylabel(met)\n",
    "    ax[i].legend(['train', 'val'])\n",
    "     \n",
    "\n",
    "\n",
    "\n"
   ]
  },
  {
   "cell_type": "code",
   "execution_count": 59,
   "id": "3xZCP8PCke_T",
   "metadata": {
    "id": "3xZCP8PCke_T"
   },
   "outputs": [],
   "source": [
    "tn, fp, fn, tp = CM.ravel()\n",
    "preds = vgg_model.predict(X_test)\n",
    "from sklearn.metrics import accuracy_score\n",
    "acc = accuracy_score(y_test, np.round(preds))*100\n",
    "#preds = vgg_model.predict(X_test)"
   ]
  },
  {
   "cell_type": "code",
   "execution_count": 76,
   "id": "xJTVrP1efhuT",
   "metadata": {
    "colab": {
     "base_uri": "https://localhost:8080/"
    },
    "executionInfo": {
     "elapsed": 554,
     "status": "ok",
     "timestamp": 1652481525103,
     "user": {
      "displayName": "Sam",
      "userId": "12437677620512032560"
     },
     "user_tz": -60
    },
    "id": "xJTVrP1efhuT",
    "outputId": "b435b3f7-6ba3-40cf-f1de-13b5898bf214"
   },
   "outputs": [
    {
     "name": "stdout",
     "output_type": "stream",
     "text": [
      "CONFUSION MATRIX ------------------\n",
      "[[354  41]\n",
      " [195 200]]\n",
      "\n",
      "TEST METRICS ----------------------\n",
      "Accuracy: 56.075949367088604\n",
      "Precision: 82.98755186721992\n",
      "Recall: {}% 50.63291139240506\n",
      "F1-score: {} 62.89308176100629\n",
      "\n",
      "TRAIN METRIC ----------------------\n",
      "Train acc: 75.13\n"
     ]
    }
   ],
   "source": [
    "from sklearn.metrics import accuracy_score\n",
    "print('CONFUSION MATRIX ------------------')\n",
    "print(CM)\n",
    "\n",
    "print('\\nTEST METRICS ----------------------')\n",
    "precision = tp/(tp+fp)*100\n",
    "recall = tp/(tp+fn)*100\n",
    "f1 = 2*precision*recall/(precision+recall)\n",
    "print('Accuracy:',acc)\n",
    "print('Precision:',precision)\n",
    "print('Recall: ',recall)\n",
    "print('F1-score: ',f1)\n",
    "\n",
    "print('\\nTRAIN METRIC ----------------------')\n",
    "print('Train acc: '.format(np.round((history.history['accuracy'][-1])*100, 2)))"
   ]
  },
  {
   "cell_type": "code",
   "execution_count": 79,
   "id": "d5fa7124",
   "metadata": {
    "colab": {
     "base_uri": "https://localhost:8080/"
    },
    "executionInfo": {
     "elapsed": 835,
     "status": "ok",
     "timestamp": 1652481923283,
     "user": {
      "displayName": "Sam",
      "userId": "12437677620512032560"
     },
     "user_tz": -60
    },
    "id": "d5fa7124",
    "outputId": "bce9e49e-5ced-442a-98e9-3c5a7e40ddc3"
   },
   "outputs": [],
   "source": [
    "X_test = pickle.load(open(r'C:\\Users\\Computing\\Downloads\\data-task1-20220514T230241Z-001\\data-task1\\data-task1\\X_test.pkl','rb'))\n",
    "y_test = pickle.load(open(r'C:\\Users\\Computing\\Downloads\\data-task1-20220514T230241Z-001\\data-task1\\data-task1\\Y_test.pkl','rb'))\n",
    "X_test = X_test/ 255;\n",
    "test_datagen.fit(X_test)\n",
    "y_test = to_categorical(y_test, 2)"
   ]
  },
  {
   "cell_type": "code",
   "execution_count": 80,
   "id": "0f65d18c",
   "metadata": {},
   "outputs": [],
   "source": [
    "from sklearn.metrics import confusion_matrix\n",
    "pred = vgg_model.predict(X_test)\n",
    "pred = np.argmax(pred,axis = 1)\n",
    "y_true = np.argmax(y_test,axis = 1)"
   ]
  },
  {
   "cell_type": "code",
   "execution_count": 81,
   "id": "1436debb",
   "metadata": {},
   "outputs": [
    {
     "data": {
      "image/png": "[encoded data removed]",
      "text/plain": [
       "<Figure size 360x360 with 1 Axes>"
      ]
     },
     "metadata": {
      "needs_background": "light"
     },
     "output_type": "display_data"
    }
   ],
   "source": [
    "\n",
    "CM = confusion_matrix(y_true, pred)\n",
    "from mlxtend.plotting import plot_confusion_matrix\n",
    "fig, ax = plot_confusion_matrix(conf_mat=CM ,  figsize=(5, 5))\n",
    "plt.show()"
   ]
  },
  {
   "cell_type": "code",
   "execution_count": 82,
   "id": "74cf8835",
   "metadata": {},
   "outputs": [],
   "source": [
    "from mlxtend.plotting import plot_confusion_matrix"
   ]
  },
  {
   "cell_type": "code",
   "execution_count": 83,
   "id": "b99e9401",
   "metadata": {},
   "outputs": [],
   "source": [
    "tn, fp, fn, tp = CM.ravel()\n",
    "preds = vgg_model.predict(X_test)\n",
    "from sklearn.metrics import accuracy_score\n",
    "acc = accuracy_score(y_test, np.round(preds))*100\n",
    "#preds = vgg_model.predict(X_test)"
   ]
  },
  {
   "cell_type": "code",
   "execution_count": 84,
   "id": "7ba061aa",
   "metadata": {},
   "outputs": [
    {
     "name": "stdout",
     "output_type": "stream",
     "text": [
      "CONFUSION MATRIX ------------------\n",
      "[[354  41]\n",
      " [ 65  40]]\n",
      "\n",
      "TEST METRICS ----------------------\n",
      "Accuracy: 67.2\n",
      "Precision: 49.382716049382715\n",
      "Recall: {}% 38.095238095238095\n",
      "F1-score: {} 43.01075268817205\n",
      "\n",
      "TRAIN METRIC ----------------------\n",
      "Train acc: 75.13\n"
     ]
    }
   ],
   "source": [
    "from sklearn.metrics import accuracy_score\n",
    "print('CONFUSION MATRIX ------------------')\n",
    "print(CM)\n",
    "\n",
    "print('\\nTEST METRICS ----------------------')\n",
    "precision = tp/(tp+fp)*100\n",
    "recall = tp/(tp+fn)*100\n",
    "f1 = 2*precision*recall/(precision+recall)\n",
    "print('Accuracy:',acc)\n",
    "print('Precision:',precision)\n",
    "print('Recall: {}%',recall)\n",
    "print('F1-score: {}',f1)\n",
    "\n",
    "print('\\nTRAIN METRIC ----------------------')\n",
    "print('Train acc: {}'.format(np.round((history.history['accuracy'][-1])*100, 2)))"
   ]
  },
  {
   "cell_type": "code",
   "execution_count": 85,
   "id": "2ff60eb0",
   "metadata": {},
   "outputs": [
    {
     "name": "stdout",
     "output_type": "stream",
     "text": [
      "WARNING:tensorflow:Compiled the loaded model, but the compiled metrics have yet to be built. `model.compile_metrics` will be empty until you train or evaluate the model.\n"
     ]
    }
   ],
   "source": [
    "model.save(r'C:\\Users\\Computing\\Downloads/vgg_final_assessment.h5')"
   ]
  }
 ],
 "metadata": {
  "accelerator": "GPU",
  "colab": {
   "name": "Copy of vgg_smote.ipynb",
   "provenance": [
    {
     "file_id": "1UK-5hNAya9KKQAQoBbHrEcZTIThnrU3q",
     "timestamp": 1652482055314
    }
   ]
  },
  "kernelspec": {
   "display_name": "Python 3 (ipykernel)",
   "language": "python",
   "name": "python3"
  },
  "language_info": {
   "codemirror_mode": {
    "name": "ipython",
    "version": 3
   },
   "file_extension": ".py",
   "mimetype": "text/x-python",
   "name": "python",
   "nbconvert_exporter": "python",
   "pygments_lexer": "ipython3",
   "version": "3.9.7"
  }
 },
 "nbformat": 4,
 "nbformat_minor": 5
}
